{
  "nbformat": 4,
  "nbformat_minor": 0,
  "metadata": {
    "colab": {
      "name": "Python 流程控制+ while迴圈.ipynb",
      "provenance": [],
      "include_colab_link": true
    },
    "kernelspec": {
      "name": "python3",
      "display_name": "Python 3"
    },
    "language_info": {
      "name": "python"
    }
  },
  "cells": [
    {
      "cell_type": "markdown",
      "metadata": {
        "id": "view-in-github",
        "colab_type": "text"
      },
      "source": [
        "<a href=\"https://colab.research.google.com/github/jumbokh/Intelligent-monitoring-class/blob/main/notebooks/Python_%E6%B5%81%E7%A8%8B%E6%8E%A7%E5%88%B6%2B_while%E8%BF%B4%E5%9C%88.ipynb\" target=\"_parent\"><img src=\"https://colab.research.google.com/assets/colab-badge.svg\" alt=\"Open In Colab\"/></a>"
      ]
    },
    {
      "cell_type": "markdown",
      "metadata": {
        "id": "KfR_WcNVupP6"
      },
      "source": [
        "# if敘述: 單向\n",
        "$if  (條件判斷):$<br> \n",
        "$\\ \\ \\ \\ 程式碼區塊$\n"
      ]
    },
    {
      "cell_type": "code",
      "metadata": {
        "colab": {
          "base_uri": "https://localhost:8080/"
        },
        "id": "Eof8QM4tvKJI",
        "outputId": "8641d3e9-04de-4d84-bb18-95068a7a5614"
      },
      "source": [
        "x, y = 10, 8\n",
        "if (x>y): \n",
        "    print('max is', x)\n",
        "x,y=y,x\n",
        "if x<y: print(f'max is {y}')"
      ],
      "execution_count": null,
      "outputs": [
        {
          "output_type": "stream",
          "text": [
            "max is 10\n",
            "max is 10\n"
          ],
          "name": "stdout"
        }
      ]
    },
    {
      "cell_type": "markdown",
      "metadata": {
        "id": "VyxxQa_owUgd"
      },
      "source": [
        "## if … else敘述: 雙向\n",
        "$if\\ (條件判斷):$<br>\n",
        "$\\ \\ \\ \\ 程式碼區塊一$<br>\n",
        "$else:$<br>\n",
        "$\\ \\ \\ \\ 程式碼區塊二$"
      ]
    },
    {
      "cell_type": "code",
      "metadata": {
        "colab": {
          "base_uri": "https://localhost:8080/"
        },
        "id": "Y50mOZDlw5Xz",
        "outputId": "fbd7a53e-3358-44ea-dc63-8f32db189135"
      },
      "source": [
        "x, y = 8, 10\n",
        "if x>y:\n",
        "    print(f'{x} and {y}, max is {x}')\n",
        "else:\n",
        "    print(f'{x} and {y}, max is {y}')\n",
        "\n",
        "f'{x} and {y}, max is {x}' if x>y else f'{x} and {y}, max is {y}'\n",
        "\n",
        "s = 'even' if x%2==0 else 'odd'\n",
        "print(s)"
      ],
      "execution_count": null,
      "outputs": [
        {
          "output_type": "stream",
          "text": [
            "8 and 10, max is 10\n",
            "even\n"
          ],
          "name": "stdout"
        }
      ]
    },
    {
      "cell_type": "markdown",
      "metadata": {
        "id": "OK-7lsr-xbtS"
      },
      "source": [
        "## if … elif … else敘述\n",
        "$if\\ (條件判斷):$<br>\n",
        "$\\ \\ \\ \\ 程式碼區塊一$<br>\n",
        "$elif:$<br>\n",
        "$\\ \\ \\ \\ 程式碼區塊二$<br>\n",
        "$\\cdots$<br>\n",
        "$else:$<br>\n",
        "$\\ \\ \\ \\ 程式碼區塊n$"
      ]
    },
    {
      "cell_type": "code",
      "metadata": {
        "colab": {
          "base_uri": "https://localhost:8080/"
        },
        "id": "-FAOMTfkyfWo",
        "outputId": "52546cef-d0e2-4dc9-f5eb-c4138a68a757"
      },
      "source": [
        "# 判斷輸入字元類別\n",
        "ch = input(\"Enter character: \")\n",
        "if ord(ch) >= ord('A') and ord(ch) <= ord('Z'):\n",
        "    print(\"Upper Case character\")\n",
        "elif ord(ch) <= ord(\"z\") and ord(ch) >= ord(\"a\"):\n",
        "    print(\"Lower Case character\")\n",
        "elif ord(ch) >= ord('0') and ord(ch) <= ord('9'):\n",
        "    print(\"Number character\")\n",
        "else:\n",
        "    print(\"這是特殊字元\")"
      ],
      "execution_count": null,
      "outputs": [
        {
          "output_type": "stream",
          "text": [
            "Enter character: a\n",
            "Lower Case character\n"
          ],
          "name": "stdout"
        }
      ]
    },
    {
      "cell_type": "code",
      "metadata": {
        "colab": {
          "base_uri": "https://localhost:8080/"
        },
        "id": "-Dl5vdzzy15d",
        "outputId": "177a30be-6370-4240-b8ae-440e697512cf"
      },
      "source": [
        "while True:\n",
        "    ch=input()\n",
        "    if ord('a') <= ord(ch) <= ord('z'):\n",
        "        print(f\"{ch} is Lower Case character\")\n",
        "    elif ord('0') <= ord(ch) <= ord('9'):\n",
        "        print(f\"{ch} is Number character\")\n",
        "    elif ord('A')<=ord(ch)<=ord('Z'):\n",
        "        print(f\"{ch} is Upper Case character\")\n",
        "    else:\n",
        "        print(f\"{ch} is Special character\")\n",
        "        break"
      ],
      "execution_count": null,
      "outputs": [
        {
          "output_type": "stream",
          "text": [
            "0\n",
            "0 is Number character\n",
            "A\n",
            "A is Upper Case character\n",
            "a\n",
            "a is Lower Case character\n",
            "!\n",
            "! is Special character\n"
          ],
          "name": "stdout"
        }
      ]
    },
    {
      "cell_type": "markdown",
      "metadata": {
        "id": "Y7QIDr2M5NWu"
      },
      "source": [
        "## 範例\n",
        "產生2個0~99之間的整數，讓使用者不斷輸入2數相減(大數減小數)後的答案，直到輸入正確解答為止。"
      ]
    },
    {
      "cell_type": "code",
      "metadata": {
        "colab": {
          "base_uri": "https://localhost:8080/"
        },
        "id": "SgPTJP6H8rXP",
        "outputId": "12804c1d-bd71-45e4-ee2e-1873f7ef6f3b"
      },
      "source": [
        "import random\n",
        "\n",
        "# 1. Generate two random integers between 0 and 99\n",
        "number1 = random.randint(0, 99)\n",
        "number2 = random.randint(0, 99)\n",
        "\n",
        "# 2. If number1<number, swap number1 with number2\n",
        "if number1 < number2 :\n",
        "    number1, number2 = number2, number1\n",
        "\n",
        "# 3.Prompt the user to answer number1 - number = ?\n",
        "answer = eval(input(str(number1) + \" - \" + str(number2) + \" = \"))\n",
        "\n",
        "# 4. Repeatedly ask the question until the answer is correct\n",
        "while number1 - number2 != answer:\n",
        "    answer = eval(input(\"Wrong answer. Try again.\\n\" + \n",
        "        str(number1) + \" - \" + str(number2) + \" = \"))\n",
        "\n",
        "print(\"\\nYou got it!\")"
      ],
      "execution_count": null,
      "outputs": [
        {
          "output_type": "stream",
          "text": [
            "70 - 61 = 10\n",
            "Wrong answer. Try again.\n",
            "70 - 61 = 9\n",
            "\n",
            "You got it!\n"
          ],
          "name": "stdout"
        }
      ]
    },
    {
      "cell_type": "code",
      "metadata": {
        "id": "xkKoRaPUB6mD"
      },
      "source": [
        "import random\n",
        "\n",
        "n1 = random.randint(1, 99)\n",
        "n2 = random.randint(10, 99)\n",
        "#print(n1, n2)\n",
        "if n1<n2:\n",
        "    n1, n2 = n2, n1; \n",
        "    #print(n1, n2)\n",
        "ans = eval(input(f'{n1} - {n2} = '))\n",
        "while ans != (n1-n2):\n",
        "    print('Wrong!')\n",
        "    ans = eval(input(f'{n1} - {n2} = '))\n",
        "\n",
        "print(n1-n2)\n",
        "#print(type(ans))"
      ],
      "execution_count": null,
      "outputs": []
    },
    {
      "cell_type": "markdown",
      "metadata": {
        "id": "5p8uRLcy9f6D"
      },
      "source": [
        "## 練習一\n",
        "讓電腦產生一個0~100的數字，使用者每次輸入一個數字(提示太大或太小)，直到與電腦產生的數字相同為止。\n"
      ]
    },
    {
      "cell_type": "code",
      "metadata": {
        "id": "nI2L9e8H9nFL"
      },
      "source": [
        "import random\n",
        "\n",
        "number = random.randint(0, 100)\n",
        "\n",
        "print(\"Guess a magic number between 0 and 100\")\n",
        "\n",
        "guess = -1\n",
        "\n",
        "while guess != number:\n",
        "    guess = eval(input(\"Enter your guess: \"))\n",
        "    \n",
        "    if guess==number:\n",
        "        print(\"Yes, the number is\", number)\n",
        "    elif guess<number:\n",
        "        print(\"Your guess is too low\")\n",
        "    else:\n",
        "        print(\"Your guess is too high\")"
      ],
      "execution_count": null,
      "outputs": []
    },
    {
      "cell_type": "markdown",
      "metadata": {
        "id": "rF-n16OpHTnQ"
      },
      "source": [
        "產生2個0~99之間的整數及2數相減的算式5個。讓使用者輸入5個算式答案。輸出每題是否正確與5題的解題時間。"
      ]
    },
    {
      "cell_type": "code",
      "metadata": {
        "id": "CKIVqeTKHJRz"
      },
      "source": [
        "import random\n",
        "import time\n",
        "\n",
        "corrects = 0    # 紀錄答對的題數\n",
        "count = 0\n",
        "sTime = time.time()\n",
        "while count < 5: # 0,1,2,3,4\n",
        "    n1= random.randint(0, 99)\n",
        "    n2= random.randint(0, 99)\n",
        "    if n1<n2: n1, n2= n2, n1\n",
        "    ans = eval(input(f'{n1}-{n2}='))\n",
        "    if (n1-n2) == ans: corrects += 1\n",
        "    else: print(f'Wrong! {n1}-{n2}={n1-n2}')\n",
        "    count+=1\n",
        "eTime = time.time()\n",
        "tTime=int(eTime-sTime)\n",
        "print('正確:'+str(corrects), '時間為:', tTime)"
      ],
      "execution_count": null,
      "outputs": []
    },
    {
      "cell_type": "markdown",
      "metadata": {
        "id": "UhesiD6m-EC7"
      },
      "source": [
        "## 練習二\n",
        "產生2個0~99之間的整數及2數相減的算式5個。讓使用者輸入5個算式答案。輸出每題是否正確與5題的解題時間。"
      ]
    },
    {
      "cell_type": "code",
      "metadata": {
        "colab": {
          "base_uri": "https://localhost:8080/"
        },
        "id": "5fDZAZnV-ImS",
        "outputId": "2de6d9f0-18dc-4599-9f91-387639b59473"
      },
      "source": [
        "import random\n",
        "import time\n",
        "correctCount = 0\n",
        "count = 0\n",
        "NUMBER_OF_QUESTIONS = 5\n",
        "\n",
        "startTime = time.time()\n",
        "\n",
        "while count < NUMBER_OF_QUESTIONS:\n",
        "    number1 = random.randint(0,99);\n",
        "    number2 = random.randint(0,99);\n",
        "    \n",
        "    if number1<number2:\n",
        "        number1, number2=number2, number1\n",
        "    \n",
        "    answer = eval(input(str(number1) + \" - \" + str(number2) + \" = \"))\n",
        "    \n",
        "    if number1-number2 == answer:\n",
        "        print(\"Correct!\")\n",
        "        correctCount += 1\n",
        "    else:\n",
        "        print(\"Incorrect!\", number1,\"-\",number2,\"=\",number1-number2)\n",
        "    \n",
        "    count += 1\n",
        "\n",
        "endTime = time.time()\n",
        "testTime = int(endTime-startTime)\n",
        "print(\"\\nCorrect count is\", correctCount, \"out of\", \n",
        "      NUMBER_OF_QUESTIONS, \"\\nTest time is\", testTime, \"seconds\")"
      ],
      "execution_count": null,
      "outputs": [
        {
          "output_type": "stream",
          "text": [
            "75 - 43 = 32\n",
            "Correct!\n",
            "70 - 42 = 28\n",
            "Correct!\n",
            "60 - 21 = 0\n",
            "Incorrect! 60 - 21 = 39\n",
            "47 - 41 = 2\n",
            "Incorrect! 47 - 41 = 6\n",
            "72 - 65 = 3\n",
            "Incorrect! 72 - 65 = 7\n",
            "\n",
            "Correct count is 2 out of 5 \n",
            "Test time is 25 seconds\n"
          ],
          "name": "stdout"
        }
      ]
    }
  ]
}