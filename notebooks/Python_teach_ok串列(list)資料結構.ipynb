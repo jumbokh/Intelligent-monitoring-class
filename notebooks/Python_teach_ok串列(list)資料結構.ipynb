{
  "nbformat": 4,
  "nbformat_minor": 0,
  "metadata": {
    "colab": {
      "name": "Python_teach_ok串列(list)資料結構.ipynb",
      "provenance": [],
      "collapsed_sections": [],
      "include_colab_link": true
    },
    "kernelspec": {
      "name": "python3",
      "display_name": "Python 3"
    },
    "language_info": {
      "name": "python"
    },
    "accelerator": "GPU"
  },
  "cells": [
    {
      "cell_type": "markdown",
      "metadata": {
        "id": "view-in-github",
        "colab_type": "text"
      },
      "source": [
        "<a href=\"https://colab.research.google.com/github/jumbokh/Intelligent-monitoring-class/blob/main/notebooks/Python_teach_ok%E4%B8%B2%E5%88%97(list)%E8%B3%87%E6%96%99%E7%B5%90%E6%A7%8B.ipynb\" target=\"_parent\"><img src=\"https://colab.research.google.com/assets/colab-badge.svg\" alt=\"Open In Colab\"/></a>"
      ]
    },
    {
      "cell_type": "markdown",
      "metadata": {
        "id": "DBSUiZysCaeT"
      },
      "source": [
        "## 串列(Lists)\n",
        "1. 串列(List)可以儲存任何數量的資料，當需要在程式需要儲存⼤量數值時可以使⽤串列。\n",
        "2. <font color='red'>陣列(array)與串列(lists)差異在於**陣列的個數是固定的**，⽽ Python 的**串列個數是有彈性的，可依需求⽽伸縮**。</font>\n",
        "3. Python提供串列的結構，儲存⼀系列相關的元素，更有效率、更有組織。\n",
        "\n",
        "![](https://i.imgur.com/B6XgbsD.png)"
      ]
    },
    {
      "cell_type": "markdown",
      "metadata": {
        "id": "7c4E9Q5BDO_i"
      },
      "source": [
        "# 建立串列\n",
        "1. 串列定義於 list類別。它包含建立、操作以及處理串列的⽅法。<font color='red'>串列的元素可藉由索引(index:[ ])加以存取。</font>\n",
        "2. 使用 list 建構式來建立串列(list)"
      ]
    },
    {
      "cell_type": "code",
      "metadata": {
        "colab": {
          "base_uri": "https://localhost:8080/"
        },
        "id": "lPEjiJH0Dpqg",
        "outputId": "b5c788f0-ee41-420d-9b08-b9d21ae740b0"
      },
      "source": [
        "list1 = list()        # list1空串列, 等同於 list1 = []\n",
        "print(list1)\n",
        "list2 = list( [1,2,3,4,5] ) # 等同於 list2 = [1,2,3,4,5]\n",
        "print(list2)\n",
        "list3 = list( ['red', 0, 'green'] )# 等同於 list3 = ['red', '0', 'green']\n",
        "print(list3)\n",
        "list4 = list( range(100, 105) ) # 等同於 list4 = [100, 101, 102, 103, 104]\n",
        "print(list4)\n",
        "list5 = list(\"abcd\")     # 等同於 list5 = ['a', 'b', 'c', 'd']\n",
        "print(list5)"
      ],
      "execution_count": null,
      "outputs": [
        {
          "output_type": "stream",
          "text": [
            "[]\n",
            "[1, 2, 3, 4, 5]\n",
            "['red', 0, 'green']\n",
            "[100, 101, 102, 103, 104]\n",
            "['a', 'b', 'c', 'd']\n"
          ],
          "name": "stdout"
        }
      ]
    },
    {
      "cell_type": "markdown",
      "metadata": {
        "id": "X7XFbfCbFkjd"
      },
      "source": [
        "3. <font color='red'>**串列中的元素以逗點隔開，並用中括號包起來**</font>\n",
        "4. <font color='red'>**串列可包含相同資料型態或混合型態的資料**</font>"
      ]
    },
    {
      "cell_type": "code",
      "metadata": {
        "colab": {
          "base_uri": "https://localhost:8080/"
        },
        "id": "Cv8nmHQYGH5G",
        "outputId": "a28c7912-cdcb-46bc-e579-6468ac9ff203"
      },
      "source": [
        "list3 = list( ['red', 0, 'green'] )# 等同於 list3 = ['red', '0', 'green']\n",
        "print(list3)"
      ],
      "execution_count": null,
      "outputs": [
        {
          "output_type": "stream",
          "text": [
            "['red', 0, 'green']\n"
          ],
          "name": "stdout"
        }
      ]
    },
    {
      "cell_type": "markdown",
      "metadata": {
        "id": "qjTYus1MGnQd"
      },
      "source": [
        "# 索引運算⼦[ ]\n",
        "1. 在Python中，串列與字串是序列型態(sequence type)，<font color='red'>**可透過索引運算⼦[ ]來存取**。</font>\n",
        "2. 串列是⼀序列的任何元素；字串是⼀序列的字元。\n",
        "3. <font color='red'>**串列的索引表示:**</font>\n",
        "\n",
        "![](https://i.imgur.com/p4pawaB.png)"
      ]
    },
    {
      "cell_type": "code",
      "metadata": {
        "colab": {
          "base_uri": "https://localhost:8080/"
        },
        "id": "cVTLkXneHpIb",
        "outputId": "87ba74be-55a8-4baa-af60-8930fdc0d483"
      },
      "source": [
        "books = ['c++', 'python', 'AI', 'Java', 'Swift']\n",
        "print(books[0], books[-5])\n",
        "print(books[4], books[-1])"
      ],
      "execution_count": null,
      "outputs": [
        {
          "output_type": "stream",
          "text": [
            "c++ c++\n",
            "Swift Swift\n"
          ],
          "name": "stdout"
        }
      ]
    },
    {
      "cell_type": "markdown",
      "metadata": {
        "id": "V8iHfpyjIp26"
      },
      "source": [
        "## 索引值\n",
        "1. 在串列中的元素，可利⽤索引運算⼦( [ ]) 來存取，語法：myList[index]\n",
        "2. <font color='red'>串列索引從$0$開始，範圍：$0 \\sim (len(myList)-1)$，常與迴圈⼀起使⽤。</font>\n",
        "3. myList[index]中index可視為變數，index也稱為索引變數。\n",
        "4. **存取超過串列⼤⼩的元素是⼀般程式設計常犯的錯誤，此時將產⽣執⾏期的index Error。**為了避免此種錯誤，<font color='red'>**必須確認使⽤的索引不要超過 $len(myList) -1$**。</font>\n",
        "5. 程式設計師**常誤認為在串列的第⼀個元素是從1開始**，這是不對的，**它是從0開始**。此類情形稱為⼤⼩差⼀的錯誤(off-by-one error) ，**這常發⽣在迴圈中使⽤$<$，⽽不是$<=$。**\n",
        "6. <font color='red'>**負索引 i 轉為 正索引的公式**: $-i+ len(listName)$</font>"
      ]
    },
    {
      "cell_type": "code",
      "metadata": {
        "colab": {
          "base_uri": "https://localhost:8080/"
        },
        "id": "siiKwq2tJ4h-",
        "outputId": "484b0eae-20f9-44f1-f77d-843cccc91fba"
      },
      "source": [
        "# 建立一個整數串列包含0~9\n",
        "list1 = list([0, 1, 2, 3, 4, 5, 6, 7, 8, 9]) # list1=list(range(0,10))\n",
        "# 正負索引照輸出\n",
        "print(list1[0], list1[-10], list1[-(len(list1))])# 輸出第1個元素\n",
        "# 負索引 i 轉為 正索引的公式: -10+len(list1)=-10+10=0\n",
        "print(list1[-10+len(list1)])\n",
        "print(list1[len(list1)-1], list1[-1])# 輸出最後1個元素\n",
        "# 請輸出最後第3個元素\n",
        "print(list1[-3+len(list1)], list1[-3])\n",
        "\n",
        "# 迴圈存取\n",
        "i = 0   # 串列索引值變數\n",
        "#while i <= len(list1):   # 產生 IndexError\n",
        "while i < len(list1):\n",
        "    print(\"i =\", list1[i], end=' ')\n",
        "    i += 1 "
      ],
      "execution_count": null,
      "outputs": [
        {
          "output_type": "stream",
          "text": [
            "0 0 0\n",
            "0\n",
            "9 9\n",
            "7 7\n",
            "i = 0 i = 1 i = 2 i = 3 i = 4 i = 5 i = 6 i = 7 i = 8 i = 9 "
          ],
          "name": "stdout"
        }
      ]
    },
    {
      "cell_type": "markdown",
      "metadata": {
        "id": "XqnSZYnlP7TM"
      },
      "source": [
        "# <font color='red'>**串列分割$[start : end]$**</font>\n",
        "1. **索引運算⼦允許您選擇特定索引的元素**。\n",
        "2. 分割運算⼦(slicing operator)使⽤ <font color='red'>$list[start \\ : \\ end]$回傳串列分割部分。分割的部份是從 $start$到$end - 1$的⼦串列。</font>"
      ]
    },
    {
      "cell_type": "code",
      "metadata": {
        "colab": {
          "base_uri": "https://localhost:8080/"
        },
        "id": "VQv5gI6eQyA7",
        "outputId": "97ec62cf-802b-411c-b0ea-d8ffba1dd860"
      },
      "source": [
        "# 建立一個整數串列包含0~9\n",
        "list1 = list( range(0, 10) ) # [0, 1, 2, 3, 4, 5, 6, 7, 8, 9]\n",
        "# print(list1)\n",
        "sublist = list1[ 0 : 3 ]\n",
        "print(sublist)"
      ],
      "execution_count": null,
      "outputs": [
        {
          "output_type": "stream",
          "text": [
            "[0, 1, 2]\n"
          ],
          "name": "stdout"
        }
      ]
    },
    {
      "cell_type": "markdown",
      "metadata": {
        "id": "Zzy-JKl1RUK1"
      },
      "source": [
        "3. 起始索引(start)與結束索引(end)是可以省略的。\n",
        "- <font color='red'>**start省略時: 代表$start=0$**\n",
        "- **end省略時: 代表 $end = len(list)，串列的長度$**\n",
        "4. **當end⼩於start，傳回空串列**。若**end⼤於串列⻑度，以串列⻑度代表end**</font>"
      ]
    },
    {
      "cell_type": "code",
      "metadata": {
        "id": "NkjSmn9uSKjJ",
        "colab": {
          "base_uri": "https://localhost:8080/"
        },
        "outputId": "179fbb09-810b-4827-dcd1-c5fda1b4c60b"
      },
      "source": [
        "sublist = list1[ : ] # 整個 list1的全部元素\n",
        "print(sublist)\n",
        "sublist = list1[ 0: len(list1)] # 整個 list1的全部元素\n",
        "print(sublist)"
      ],
      "execution_count": null,
      "outputs": [
        {
          "output_type": "stream",
          "text": [
            "[0, 1, 2, 3, 4, 5, 6, 7, 8, 9]\n",
            "[0, 1, 2, 3, 4, 5, 6, 7, 8, 9]\n"
          ],
          "name": "stdout"
        }
      ]
    },
    {
      "cell_type": "markdown",
      "metadata": {
        "id": "1CbtXx7URuNG"
      },
      "source": [
        "5. $list[\\ : \\ n]$: <font color='red'>**取得串列$前n個$元素，索引值為$0 \\sim (n-1)$**</font>"
      ]
    },
    {
      "cell_type": "code",
      "metadata": {
        "id": "MbXqtFfcS7_2",
        "colab": {
          "base_uri": "https://localhost:8080/"
        },
        "outputId": "b905cb5e-1fd7-434b-ba96-23ca7c8f216d"
      },
      "source": [
        "# 取得 list1 前5個元素\n",
        "sublist = list1[ : 5] # [0, 1, 2, 3, 4]\n",
        "print(sublist)"
      ],
      "execution_count": null,
      "outputs": [
        {
          "output_type": "stream",
          "text": [
            "[0, 1, 2, 3, 4]\n"
          ],
          "name": "stdout"
        }
      ]
    },
    {
      "cell_type": "markdown",
      "metadata": {
        "id": "ouRZWx_GS5j4"
      },
      "source": [
        "\n",
        "6. $list[\\ : \\ -n]$: <font color='red'>**取得串列前⾯，不含(去除)最後$n$個元素**</font>"
      ]
    },
    {
      "cell_type": "code",
      "metadata": {
        "id": "ZxI84DR_T_h7",
        "colab": {
          "base_uri": "https://localhost:8080/"
        },
        "outputId": "6737547f-9d3c-4b5b-9b2f-5571fa113025"
      },
      "source": [
        "# 取得 list1 去除最後5個元素\n",
        "sublist = list1[  : -5] # [0, 1, 2, 3, 4]\n",
        "print(sublist)"
      ],
      "execution_count": null,
      "outputs": [
        {
          "output_type": "stream",
          "text": [
            "[0, 1, 2, 3, 4]\n"
          ],
          "name": "stdout"
        }
      ]
    },
    {
      "cell_type": "markdown",
      "metadata": {
        "id": "jF3iafvUUj3I"
      },
      "source": [
        "7. $list[n \\ : \\ ]$ : <font color='red'>**取得串列索引$n$到最後的元素**</font>"
      ]
    },
    {
      "cell_type": "code",
      "metadata": {
        "id": "8dvpMYG8U1SV",
        "colab": {
          "base_uri": "https://localhost:8080/"
        },
        "outputId": "2d0a3b05-09f5-4cf7-bcbb-26d326420778"
      },
      "source": [
        "# 取得 list1 從索引5開始到串列結尾的所有元素\n",
        "sublist = list1[ 5 : ] # [ 5, 6, 7, 8, 9]\n",
        "print(sublist)"
      ],
      "execution_count": null,
      "outputs": [
        {
          "output_type": "stream",
          "text": [
            "[5, 6, 7, 8, 9]\n"
          ],
          "name": "stdout"
        }
      ]
    },
    {
      "cell_type": "markdown",
      "metadata": {
        "id": "a18lQYTTVbQY"
      },
      "source": [
        "8. $list[-n \\ : \\ ]$: <font color='red'>**取得串列後$n$個元素**</font>"
      ]
    },
    {
      "cell_type": "code",
      "metadata": {
        "id": "M_jz_aUWVZl5",
        "colab": {
          "base_uri": "https://localhost:8080/"
        },
        "outputId": "80336ab8-87c7-4ce0-89b6-c552a2d33c22"
      },
      "source": [
        "# 取得 list1 最後5個元素\n",
        "sublist = list1[ -5 : ] # [ 5, 6, 7, 8, 9]\n",
        "print(sublist)"
      ],
      "execution_count": null,
      "outputs": [
        {
          "output_type": "stream",
          "text": [
            "[5, 6, 7, 8, 9]\n"
          ],
          "name": "stdout"
        }
      ]
    },
    {
      "cell_type": "markdown",
      "metadata": {
        "id": "r-InEBaV-Ibq"
      },
      "source": [
        "# Python 序列(sequence)的⼀般性運作\n",
        "\n",
        "![](https://i.imgur.com/DkCIUd1.png)"
      ]
    },
    {
      "cell_type": "markdown",
      "metadata": {
        "id": "FJMLmteTAOtl"
      },
      "source": [
        "## +、*、in、not in 運算⼦\n",
        "1. <font color='red'> **+: 兩個串列連接(結合)** </font>\n",
        "2. <font color='blue'> ***: 串列複製**</font>"
      ]
    },
    {
      "cell_type": "code",
      "metadata": {
        "colab": {
          "base_uri": "https://localhost:8080/"
        },
        "id": "JUQT6XtzA0sR",
        "outputId": "2ae5035f-c888-4991-ae98-8ee3e6f3566a"
      },
      "source": [
        "a = list(range(100, 111))\n",
        "#a\n",
        "b = list(range(6))\n",
        "#b\n",
        "c = a + b   # a,b 兩個串列連接\n",
        "print(c)\n",
        "\n",
        "d = 5 * b\n",
        "print(d)\n",
        "\n",
        "print(['-']*5)"
      ],
      "execution_count": null,
      "outputs": [
        {
          "output_type": "stream",
          "text": [
            "[100, 101, 102, 103, 104, 105, 106, 107, 108, 109, 110, 0, 1, 2, 3, 4, 5]\n",
            "[0, 1, 2, 3, 4, 5, 0, 1, 2, 3, 4, 5, 0, 1, 2, 3, 4, 5, 0, 1, 2, 3, 4, 5, 0, 1, 2, 3, 4, 5]\n",
            "['-', '-', '-', '-', '-']\n"
          ],
          "name": "stdout"
        }
      ]
    },
    {
      "cell_type": "markdown",
      "metadata": {
        "id": "mfRXoE83BwVk"
      },
      "source": [
        "3. <font color='red'>**in 與 not in: 判斷元素是否存在串列中**</font>"
      ]
    },
    {
      "cell_type": "code",
      "metadata": {
        "id": "vyzQbXSRCDpM"
      },
      "source": [
        "print(\"188 is in c?\", 188 in c)      # False\n",
        "print(\"188 is not in c?\", 188 not in c) # True"
      ],
      "execution_count": null,
      "outputs": []
    },
    {
      "cell_type": "markdown",
      "metadata": {
        "id": "wr3DaildDUAP"
      },
      "source": [
        "4. <font color='red'>**len(s): 計算 串列 擁有多少個元素**</font>"
      ]
    },
    {
      "cell_type": "code",
      "metadata": {
        "colab": {
          "base_uri": "https://localhost:8080/"
        },
        "id": "9OXybDPODlxL",
        "outputId": "9798caa4-a207-45b1-a19c-7d7f58f5c2d6"
      },
      "source": [
        "print(len(a), len(b), len(c), len(d))"
      ],
      "execution_count": null,
      "outputs": [
        {
          "output_type": "stream",
          "text": [
            "11 6 17 30\n"
          ],
          "name": "stdout"
        }
      ]
    },
    {
      "cell_type": "markdown",
      "metadata": {
        "id": "fxpdIviWEGAM"
      },
      "source": [
        "## 串列統計資料: 最⼤值(max)、最⼩值(min)、總和(sum)\n",
        "1. <font color='red'>**max(s): 計算在串列中所有元素的最大值**</font>"
      ]
    },
    {
      "cell_type": "code",
      "metadata": {
        "colab": {
          "base_uri": "https://localhost:8080/"
        },
        "id": "tnCPRmYiElNt",
        "outputId": "b2624c7e-c596-4fdc-c8f6-943c797b40b1"
      },
      "source": [
        "print(a)\n",
        "print(\"Max. number in the list a is\", max(a))"
      ],
      "execution_count": null,
      "outputs": [
        {
          "output_type": "stream",
          "text": [
            "[100, 101, 102, 103, 104, 105, 106, 107, 108, 109, 110]\n",
            "Max. number in the list a is 110\n"
          ],
          "name": "stdout"
        }
      ]
    },
    {
      "cell_type": "markdown",
      "metadata": {
        "id": "dxLTOcP8E0M0"
      },
      "source": [
        "2. <font color='red'>**min(s): 計算在串列中所有元素的最小值**</font>"
      ]
    },
    {
      "cell_type": "code",
      "metadata": {
        "colab": {
          "base_uri": "https://localhost:8080/"
        },
        "id": "1owFx-_OE9IM",
        "outputId": "fe11474e-ec07-477d-a2fa-3db2a7dbae06"
      },
      "source": [
        "print(\"Min. number in the list a is\", min(a))"
      ],
      "execution_count": null,
      "outputs": [
        {
          "output_type": "stream",
          "text": [
            "Min. number in the list a is 100\n"
          ],
          "name": "stdout"
        }
      ]
    },
    {
      "cell_type": "markdown",
      "metadata": {
        "id": "UKrHXSY8FEYP"
      },
      "source": [
        "3. <font color='red'>**sum(s): 計算在串列中所有元素的總和**</font>"
      ]
    },
    {
      "cell_type": "code",
      "metadata": {
        "colab": {
          "base_uri": "https://localhost:8080/"
        },
        "id": "uI25xEBBFQAB",
        "outputId": "89560fd6-5c31-482a-a292-c718a1a0f622"
      },
      "source": [
        "print(\"Sum of the list a is\", sum(a))"
      ],
      "execution_count": null,
      "outputs": [
        {
          "output_type": "stream",
          "text": [
            "Sum of the list a is 1155\n"
          ],
          "name": "stdout"
        }
      ]
    },
    {
      "cell_type": "markdown",
      "metadata": {
        "id": "InugtH51Fb9A"
      },
      "source": [
        "4. <font color='red'>練習：計算串列所有元素的平均值</font>"
      ]
    },
    {
      "cell_type": "code",
      "metadata": {
        "colab": {
          "base_uri": "https://localhost:8080/"
        },
        "id": "IX0UnJKPFmlc",
        "outputId": "0ee0e53f-0c21-433a-8eca-1305d7a3339c"
      },
      "source": [
        "print(\"Average of the list a is\", sum(a)/len(a))"
      ],
      "execution_count": null,
      "outputs": [
        {
          "output_type": "stream",
          "text": [
            "Average of the list a is 105.0\n"
          ],
          "name": "stdout"
        }
      ]
    },
    {
      "cell_type": "markdown",
      "metadata": {
        "id": "Wpkp3_ljGhqd"
      },
      "source": [
        "# 串列刪除操作\n",
        "1. <font color='red'>del list[i]</font>: **刪除串列中索引為$\\bf i$的元素**\n",
        "2. <font color='red'>del list[start : end]</font>: **刪除串列中索引為$\\bf start \\sim (end-1)$的所有元素**\n",
        "3. <font color='red'>del list[start : end : step]</font>: **刪除串列中索引為$\\bf start \\sim (end-1)$的step為3的所有元素**\n",
        "4. <font color='red'>del listName</font>: 刪除整個串列"
      ]
    },
    {
      "cell_type": "code",
      "metadata": {
        "id": "DayQ_DHBH2KL",
        "colab": {
          "base_uri": "https://localhost:8080/",
          "height": 271
        },
        "outputId": "473e2096-d9be-4720-9946-9322045286f4"
      },
      "source": [
        "a = list(range(100, 111))\n",
        "print(a)\n",
        "del a[-4]   # 刪除107\n",
        "print(a)\n",
        "\n",
        "# 刪除 102~104\n",
        "del a[2 : 5]\n",
        "print(a)\n",
        "\n",
        "# 刪除整個串列索引為偶數的所有元素\n",
        "del a[ : : 2]\n",
        "print(a)\n",
        "\n",
        "# 刪除 整個a串列\n",
        "del a\n",
        "print(a)  # 已經沒有a這個串列，產生NameError錯誤"
      ],
      "execution_count": null,
      "outputs": [
        {
          "output_type": "stream",
          "text": [
            "[100, 101, 102, 103, 104, 105, 106, 107, 108, 109, 110]\n",
            "[100, 101, 102, 103, 104, 105, 106, 108, 109, 110]\n",
            "[100, 101, 105, 106, 108, 109, 110]\n",
            "[101, 106, 109]\n"
          ],
          "name": "stdout"
        },
        {
          "output_type": "error",
          "ename": "NameError",
          "evalue": "ignored",
          "traceback": [
            "\u001b[0;31m---------------------------------------------------------------------------\u001b[0m",
            "\u001b[0;31mNameError\u001b[0m                                 Traceback (most recent call last)",
            "\u001b[0;32m<ipython-input-9-95887796a2ee>\u001b[0m in \u001b[0;36m<module>\u001b[0;34m()\u001b[0m\n\u001b[1;32m     14\u001b[0m \u001b[0;31m# 刪除 整個a串列\u001b[0m\u001b[0;34m\u001b[0m\u001b[0;34m\u001b[0m\u001b[0;34m\u001b[0m\u001b[0m\n\u001b[1;32m     15\u001b[0m \u001b[0;32mdel\u001b[0m \u001b[0ma\u001b[0m\u001b[0;34m\u001b[0m\u001b[0;34m\u001b[0m\u001b[0m\n\u001b[0;32m---> 16\u001b[0;31m \u001b[0mprint\u001b[0m\u001b[0;34m(\u001b[0m\u001b[0ma\u001b[0m\u001b[0;34m)\u001b[0m  \u001b[0;31m# 已經沒有a這個串列，產生NameError錯誤\u001b[0m\u001b[0;34m\u001b[0m\u001b[0;34m\u001b[0m\u001b[0m\n\u001b[0m",
            "\u001b[0;31mNameError\u001b[0m: name 'a' is not defined"
          ]
        }
      ]
    },
    {
      "cell_type": "markdown",
      "metadata": {
        "id": "6_G8bcpQMLT7"
      },
      "source": [
        "# 多重指定與串列\n",
        "1. 多重指定等號左邊變數個數少於右邊值的時候，可以⽤「變數\\*」的⽅式將多餘的值放入\\*開始的變數(串列)\n",
        "2. <font color='red'>**左邊的【\\*變數】只能有一個，否則產生錯誤**</font>"
      ]
    },
    {
      "cell_type": "code",
      "metadata": {
        "id": "JDxFyRRQMa3r",
        "colab": {
          "base_uri": "https://localhost:8080/",
          "height": 184
        },
        "outputId": "c01ccdd3-2375-4435-938e-973edc145f88"
      },
      "source": [
        "x, y, *z = 1, 2, 3, 4, 5, 6\n",
        "print(x, y, z)\n",
        "\n",
        "x, *y, z = 1, 2, 3, 4, 5, 6\n",
        "print(x, y, z)\n",
        "\n",
        "*x, y, z = 1, 2, 3, 4, 5, 6\n",
        "print(x, y, z)\n",
        "\n",
        "*x, y, *z = 1, 2, 3, 4, 5, 6\n",
        "print(x, y, z)"
      ],
      "execution_count": null,
      "outputs": [
        {
          "output_type": "stream",
          "text": [
            "1 2 [3, 4, 5, 6]\n",
            "1 [2, 3, 4, 5] 6\n",
            "[1, 2, 3, 4] 5 6\n"
          ],
          "name": "stdout"
        },
        {
          "output_type": "error",
          "ename": "SyntaxError",
          "evalue": "ignored",
          "traceback": [
            "\u001b[0;36m  File \u001b[0;32m\"<ipython-input-11-b3838697580c>\"\u001b[0;36m, line \u001b[0;32m10\u001b[0m\n\u001b[0;31m    *x, y, *z = 1, 2, 3, 4, 5, 6\u001b[0m\n\u001b[0m                                ^\u001b[0m\n\u001b[0;31mSyntaxError\u001b[0m\u001b[0;31m:\u001b[0m two starred expressions in assignment\n"
          ]
        }
      ]
    },
    {
      "cell_type": "markdown",
      "metadata": {
        "id": "_DaXhBSuN-6f"
      },
      "source": [
        "# <font color='red'>for追蹤串列元素</font>\n",
        "1. 在Python串列的元素是迭代(iterable)。Python提供以下⽅式，不必利⽤索引變數就可以追蹤。\n",
        "- 語法如下："
      ]
    },
    {
      "cell_type": "code",
      "metadata": {
        "id": "xaVeNxeoOK0r",
        "colab": {
          "base_uri": "https://localhost:8080/",
          "height": 201
        },
        "outputId": "30d8a74e-e50f-4a12-a6a7-7ed4c959ce1d"
      },
      "source": [
        "# 從 items串列依序取出每一個元素\n",
        "for item in items:\n",
        "    print(item)"
      ],
      "execution_count": null,
      "outputs": [
        {
          "output_type": "error",
          "ename": "NameError",
          "evalue": "ignored",
          "traceback": [
            "\u001b[0;31m---------------------------------------------------------------------------\u001b[0m",
            "\u001b[0;31mNameError\u001b[0m                                 Traceback (most recent call last)",
            "\u001b[0;32m<ipython-input-12-ff863b8ce8bc>\u001b[0m in \u001b[0;36m<module>\u001b[0;34m()\u001b[0m\n\u001b[1;32m      1\u001b[0m \u001b[0;31m# 從 items串列依序取出每一個元素\u001b[0m\u001b[0;34m\u001b[0m\u001b[0;34m\u001b[0m\u001b[0;34m\u001b[0m\u001b[0m\n\u001b[0;32m----> 2\u001b[0;31m \u001b[0;32mfor\u001b[0m \u001b[0mitem\u001b[0m \u001b[0;32min\u001b[0m \u001b[0mitems\u001b[0m\u001b[0;34m:\u001b[0m\u001b[0;34m\u001b[0m\u001b[0;34m\u001b[0m\u001b[0m\n\u001b[0m\u001b[1;32m      3\u001b[0m     \u001b[0mprint\u001b[0m\u001b[0;34m(\u001b[0m\u001b[0mitem\u001b[0m\u001b[0;34m)\u001b[0m\u001b[0;34m\u001b[0m\u001b[0;34m\u001b[0m\u001b[0m\n",
            "\u001b[0;31mNameError\u001b[0m: name 'items' is not defined"
          ]
        }
      ]
    },
    {
      "cell_type": "markdown",
      "metadata": {
        "id": "P7EDCklPOYal"
      },
      "source": [
        "2. 若要以不同順序或改變串列中元素，必須使⽤索引變數。\n",
        "- 語法如下："
      ]
    },
    {
      "cell_type": "code",
      "metadata": {
        "id": "hzPtsG8HOh4j",
        "colab": {
          "base_uri": "https://localhost:8080/",
          "height": 201
        },
        "outputId": "cf2fd2cb-4031-4093-8fb0-e5b7d8861ba2"
      },
      "source": [
        "# 從開始每step取出一個元素\n",
        "for i in range(0, len(myList), step):\n",
        "    print(myList[i])"
      ],
      "execution_count": null,
      "outputs": [
        {
          "output_type": "error",
          "ename": "NameError",
          "evalue": "ignored",
          "traceback": [
            "\u001b[0;31m---------------------------------------------------------------------------\u001b[0m",
            "\u001b[0;31mNameError\u001b[0m                                 Traceback (most recent call last)",
            "\u001b[0;32m<ipython-input-13-18683946fa15>\u001b[0m in \u001b[0;36m<module>\u001b[0;34m()\u001b[0m\n\u001b[1;32m      1\u001b[0m \u001b[0;31m# 從開始每step取出一個元素\u001b[0m\u001b[0;34m\u001b[0m\u001b[0;34m\u001b[0m\u001b[0;34m\u001b[0m\u001b[0m\n\u001b[0;32m----> 2\u001b[0;31m \u001b[0;32mfor\u001b[0m \u001b[0mi\u001b[0m \u001b[0;32min\u001b[0m \u001b[0mrange\u001b[0m\u001b[0;34m(\u001b[0m\u001b[0;36m0\u001b[0m\u001b[0;34m,\u001b[0m \u001b[0mlen\u001b[0m\u001b[0;34m(\u001b[0m\u001b[0mmyList\u001b[0m\u001b[0;34m)\u001b[0m\u001b[0;34m,\u001b[0m \u001b[0mstep\u001b[0m\u001b[0;34m)\u001b[0m\u001b[0;34m:\u001b[0m\u001b[0;34m\u001b[0m\u001b[0;34m\u001b[0m\u001b[0m\n\u001b[0m\u001b[1;32m      3\u001b[0m     \u001b[0mprint\u001b[0m\u001b[0;34m(\u001b[0m\u001b[0mmyList\u001b[0m\u001b[0;34m[\u001b[0m\u001b[0mi\u001b[0m\u001b[0;34m]\u001b[0m\u001b[0;34m)\u001b[0m\u001b[0;34m\u001b[0m\u001b[0;34m\u001b[0m\u001b[0m\n",
            "\u001b[0;31mNameError\u001b[0m: name 'myList' is not defined"
          ]
        }
      ]
    },
    {
      "cell_type": "markdown",
      "metadata": {
        "id": "6D6zDmLQPTdk"
      },
      "source": [
        "# 串列的比較\n",
        "1. 比較運算⼦：$>、 >=、 <、 <=、 ==、!=$，可⽤來比較串列元素。\n",
        "2. <font color='red'>**兩串列必須型態相同才可進⾏比較。**</font>"
      ]
    },
    {
      "cell_type": "code",
      "metadata": {
        "id": "uhBa07GsPjRe"
      },
      "source": [
        "list1 = [\"green\", \"red\", \"blue\"] \n",
        "list2 = [\"red\", \"blue\", \"green\"] \n",
        "print( list1 == list2 ) #False \n",
        "print( list1 != list2 ) #True \n",
        "print( list1 >= list2 ) #False \n",
        "print( list1 <= list2 ) #True"
      ],
      "execution_count": null,
      "outputs": []
    },
    {
      "cell_type": "markdown",
      "metadata": {
        "id": "myOnrILGPvWr"
      },
      "source": [
        "# <font color='red'>串列⽣成與解析</font>\n",
        "1. 字串解析(list comprehension)提供⼀簡潔⽅法建立⼀循序串列。\n",
        "2. 它是由<font color='blue'>**中括號裡⾯包含for⼦句後接運算式所組成的**</font>，然後可以零個或多個 for 或 if ⼦句。"
      ]
    },
    {
      "cell_type": "code",
      "metadata": {
        "colab": {
          "base_uri": "https://localhost:8080/"
        },
        "id": "YxRDoj1JCqbC",
        "outputId": "de489680-a010-4495-e541-dd09e387958b"
      },
      "source": [
        "even = [ x for x in range(0, 11, 2)]\n",
        "even"
      ],
      "execution_count": null,
      "outputs": [
        {
          "output_type": "execute_result",
          "data": {
            "text/plain": [
              "[0, 2, 4, 6, 8, 10]"
            ]
          },
          "metadata": {
            "tags": []
          },
          "execution_count": 6
        }
      ]
    },
    {
      "cell_type": "code",
      "metadata": {
        "id": "HGRgIA8BQRZT",
        "colab": {
          "base_uri": "https://localhost:8080/"
        },
        "outputId": "050dabb4-43e7-4a84-c501-0e62a290d806"
      },
      "source": [
        "# 產生一個偶數(even)數字串列：1~100中偶數的數值串列，共50個\n",
        "even = [ x for x in range(2, 101, 2)]\n",
        "print(even)\n",
        "\n",
        "# 產生一個奇數平方(odd))數字串列：1~100中奇數數值的平方串列，共50個\n",
        "odd_square = [ (x*x) for x in range(1, 101, 2)]\n",
        "print(odd_square)\n",
        "\n",
        "# 產生odd_square中每個元素開根號的串列值\n",
        "odd_square_sqrt = [ (x**0.5) for x in odd_square]\n",
        "print(odd_square_sqrt)\n",
        "\n",
        "# 配合 if 條件 產生odd_square中每個元素值 大於50 開根號的串列值的\n",
        "odd_square_sqrt_bigger_50 = [ (x**0.5) for x in odd_square if x>50] \n",
        "print(len(odd_square_sqrt_bigger_50), odd_square_sqrt_bigger_50)"
      ],
      "execution_count": null,
      "outputs": [
        {
          "output_type": "stream",
          "text": [
            "[2, 4, 6, 8, 10, 12, 14, 16, 18, 20, 22, 24, 26, 28, 30, 32, 34, 36, 38, 40, 42, 44, 46, 48, 50, 52, 54, 56, 58, 60, 62, 64, 66, 68, 70, 72, 74, 76, 78, 80, 82, 84, 86, 88, 90, 92, 94, 96, 98, 100]\n",
            "[1, 9, 25, 49, 81, 121, 169, 225, 289, 361, 441, 529, 625, 729, 841, 961, 1089, 1225, 1369, 1521, 1681, 1849, 2025, 2209, 2401, 2601, 2809, 3025, 3249, 3481, 3721, 3969, 4225, 4489, 4761, 5041, 5329, 5625, 5929, 6241, 6561, 6889, 7225, 7569, 7921, 8281, 8649, 9025, 9409, 9801]\n",
            "[1.0, 3.0, 5.0, 7.0, 9.0, 11.0, 13.0, 15.0, 17.0, 19.0, 21.0, 23.0, 25.0, 27.0, 29.0, 31.0, 33.0, 35.0, 37.0, 39.0, 41.0, 43.0, 45.0, 47.0, 49.0, 51.0, 53.0, 55.0, 57.0, 59.0, 61.0, 63.0, 65.0, 67.0, 69.0, 71.0, 73.0, 75.0, 77.0, 79.0, 81.0, 83.0, 85.0, 87.0, 89.0, 91.0, 93.0, 95.0, 97.0, 99.0]\n",
            "46 [9.0, 11.0, 13.0, 15.0, 17.0, 19.0, 21.0, 23.0, 25.0, 27.0, 29.0, 31.0, 33.0, 35.0, 37.0, 39.0, 41.0, 43.0, 45.0, 47.0, 49.0, 51.0, 53.0, 55.0, 57.0, 59.0, 61.0, 63.0, 65.0, 67.0, 69.0, 71.0, 73.0, 75.0, 77.0, 79.0, 81.0, 83.0, 85.0, 87.0, 89.0, 91.0, 93.0, 95.0, 97.0, 99.0]\n"
          ],
          "name": "stdout"
        }
      ]
    },
    {
      "cell_type": "markdown",
      "metadata": {
        "id": "AJ2NLDimTsib"
      },
      "source": [
        "3. 將串列c中所有攝氏溫度轉為華氏溫度的串列f"
      ]
    },
    {
      "cell_type": "code",
      "metadata": {
        "colab": {
          "base_uri": "https://localhost:8080/"
        },
        "id": "vqtvHcwiUEMs",
        "outputId": "b2a32f2a-e3ba-4f68-fab2-a4ac5f88313c"
      },
      "source": [
        "c = [20, 35, 37, 40, 50, 55]\n",
        "f = [(x*9/5+32) for x in c]\n",
        "print(f)"
      ],
      "execution_count": null,
      "outputs": [
        {
          "output_type": "stream",
          "text": [
            "[68.0, 95.0, 98.6, 104.0, 122.0, 131.0]\n"
          ],
          "name": "stdout"
        }
      ]
    },
    {
      "cell_type": "markdown",
      "metadata": {
        "id": "iYe0ef1HWcI9"
      },
      "source": [
        "4. <font color='red'>巢狀產生串列方式\n",
        "- 畢氏定理: $a^2+b^2=c^2$，將$1 \\sim 50$中所有符合條件的$a,b,c$組合列出</font>"
      ]
    },
    {
      "cell_type": "code",
      "metadata": {
        "colab": {
          "base_uri": "https://localhost:8080/"
        },
        "id": "o3eGmNjtXEfk",
        "outputId": "bd75f10b-7cdc-4152-8764-e9ad1bcc12e1"
      },
      "source": [
        "list1 = [\n",
        "    [a, b, c]\n",
        "        for a in range(1, 51)\n",
        "            for b in range(1, 51)\n",
        "                for c in range(1, 51)\n",
        "                    if(a**2+b**2==c**2)\n",
        "]\n",
        "print(len(list1))\n",
        "print(list1)"
      ],
      "execution_count": null,
      "outputs": [
        {
          "output_type": "stream",
          "text": [
            "40\n",
            "[[3, 4, 5], [4, 3, 5], [5, 12, 13], [6, 8, 10], [7, 24, 25], [8, 6, 10], [8, 15, 17], [9, 12, 15], [9, 40, 41], [10, 24, 26], [12, 5, 13], [12, 9, 15], [12, 16, 20], [12, 35, 37], [14, 48, 50], [15, 8, 17], [15, 20, 25], [15, 36, 39], [16, 12, 20], [16, 30, 34], [18, 24, 30], [20, 15, 25], [20, 21, 29], [21, 20, 29], [21, 28, 35], [24, 7, 25], [24, 10, 26], [24, 18, 30], [24, 32, 40], [27, 36, 45], [28, 21, 35], [30, 16, 34], [30, 40, 50], [32, 24, 40], [35, 12, 37], [36, 15, 39], [36, 27, 45], [40, 9, 41], [40, 30, 50], [48, 14, 50]]\n"
          ],
          "name": "stdout"
        }
      ]
    },
    {
      "cell_type": "markdown",
      "metadata": {
        "id": "lSuV8x2Gbpz9"
      },
      "source": [
        "# enumerate物件\n",
        "1. enumerate()可以將迭代(iterable)類數值的<font color='red'>**元素⽤index(索引值)與value(元素內容)配對⽅式傳回，回傳數據稱為enumerate物件**。</font>\n",
        "2. 使⽤此⽅法可以為iterable物件的**每個元素增加index(索引值)**，這對未來數據應⽤很有幫助。\n",
        "3. iterable物件可以為list, tuple, set…等"
      ]
    },
    {
      "cell_type": "code",
      "metadata": {
        "colab": {
          "base_uri": "https://localhost:8080/"
        },
        "id": "lbvKIVgrcUIG",
        "outputId": "6281bceb-6251-4dcc-b342-b9b08c2453dd"
      },
      "source": [
        "cars = ['Benz', 'BMW', 'Lexus']\n",
        "\n",
        "for i, car in enumerate(cars):\n",
        "    print(\"i =\", i, 'car =', car, end= ', ')"
      ],
      "execution_count": null,
      "outputs": [
        {
          "output_type": "stream",
          "text": [
            "i = 0 car = Benz, i = 1 car = BMW, i = 2 car = Lexus, "
          ],
          "name": "stdout"
        }
      ]
    },
    {
      "cell_type": "markdown",
      "metadata": {
        "id": "zojyW_V9dquf"
      },
      "source": [
        "# 串列⽅法(可用的操作函式)\n",
        "1. 一旦建立串列後，就可以使用以下的串列⽅法來操作串列\n",
        "2. 常用串列⽅法如下:\n",
        "![](https://i.imgur.com/7ORmQUS.png)"
      ]
    },
    {
      "cell_type": "markdown",
      "metadata": {
        "id": "EpDFNRllgJH2"
      },
      "source": [
        "- append(), count(), extend(), insert(), reverse(), sort()"
      ]
    },
    {
      "cell_type": "code",
      "metadata": {
        "id": "LUwYV7B4eZf_",
        "colab": {
          "base_uri": "https://localhost:8080/"
        },
        "outputId": "e272ea10-2130-4323-8cf4-a255b5c83d3a"
      },
      "source": [
        "# append()\n",
        "list1 = []   # 建立一個list1空串列\n",
        "print(list1)\n",
        "# 將數字 108~115依序加入到 list1中\n",
        "for x in range(108, 116):\n",
        "    list1.append(x)\n",
        "print(list1)\n",
        "# count()\n",
        "list1.append(110)\n",
        "print(list1.count(110))\n",
        "# extend()\n",
        "list2 = [88, 66]\n",
        "list1.extend(list2)\n",
        "print(list1)\n",
        "# insert(索引位置, 值)\n",
        "list1.insert(1, 108)\n",
        "print(list1)\n",
        "\n",
        "# 將 list1 的元素由小到大排序\n",
        "list1.sort()\n",
        "print(list1)\n",
        "# 將 list1 的元素由大到小排序\n",
        "list1.reverse()\n",
        "print(list1)"
      ],
      "execution_count": null,
      "outputs": [
        {
          "output_type": "stream",
          "text": [
            "[]\n",
            "[108, 109, 110, 111, 112, 113, 114, 115]\n",
            "2\n",
            "[108, 109, 110, 111, 112, 113, 114, 115, 110, 88, 66]\n",
            "[108, 108, 109, 110, 111, 112, 113, 114, 115, 110, 88, 66]\n",
            "[66, 88, 108, 108, 109, 110, 110, 111, 112, 113, 114, 115]\n",
            "[115, 114, 113, 112, 111, 110, 110, 109, 108, 108, 88, 66]\n"
          ],
          "name": "stdout"
        }
      ]
    },
    {
      "cell_type": "markdown",
      "metadata": {
        "id": "_ykjWnIShHCC"
      },
      "source": [
        "- pop(), remove()"
      ]
    },
    {
      "cell_type": "code",
      "metadata": {
        "id": "t3iqEyYYhN4x",
        "colab": {
          "base_uri": "https://localhost:8080/"
        },
        "outputId": "9bd54138-3a3c-424a-a3d4-5c9c5abbd6b6"
      },
      "source": [
        "# 刪除 list1的最後一個元素\n",
        "list1.pop()\n",
        "print(list1)\n",
        "\n",
        "# 刪除 list1的索引為1(第2個)的元素\n",
        "list1.pop(1)\n",
        "print(list1)\n",
        "\n",
        "# 刪除 數字為 113 的元素\n",
        "list1.append(113)\n",
        "list1.remove(113)\n",
        "print(list1)"
      ],
      "execution_count": null,
      "outputs": [
        {
          "output_type": "stream",
          "text": [
            "[115, 114, 113, 112, 111, 110, 110, 109, 108, 108, 88]\n",
            "[115, 113, 112, 111, 110, 110, 109, 108, 108, 88]\n",
            "[115, 112, 111, 110, 110, 109, 108, 108, 88, 113]\n"
          ],
          "name": "stdout"
        }
      ]
    },
    {
      "cell_type": "markdown",
      "metadata": {
        "id": "ugZpqnQgjFmT"
      },
      "source": [
        "# <font color='red'>分離字串於串列中\n",
        "1. str類別中的split('分隔字元')，可有效地將字串中的項⽬分離，並置於⼀個串列中。\n",
        "- **'分隔字元': 預設為空白**\n",
        "</font>"
      ]
    },
    {
      "cell_type": "code",
      "metadata": {
        "colab": {
          "base_uri": "https://localhost:8080/"
        },
        "id": "5wWjKshcje_m",
        "outputId": "bb8e5556-4436-41a7-e1ee-aa611aa211e4"
      },
      "source": [
        "str1 = \"How are you doing ? To be or not to be .\"\n",
        "items = str1.split()\n",
        "print(items)\n",
        "\n",
        "str2 = '2021/6/15'\n",
        "times = str2.split('/')\n",
        "print(times)"
      ],
      "execution_count": null,
      "outputs": [
        {
          "output_type": "stream",
          "text": [
            "['How', 'are', 'you', 'doing', '?', 'To', 'be', 'or', 'not', 'to', 'be', '.']\n",
            "['2021', '6', '15']\n"
          ],
          "name": "stdout"
        }
      ]
    },
    {
      "cell_type": "markdown",
      "metadata": {
        "id": "oE2a2aqjkOPk"
      },
      "source": [
        "2. <font color='red'>**串列內容兩兩間以【符號】間隔後組成字串**</font>"
      ]
    },
    {
      "cell_type": "code",
      "metadata": {
        "colab": {
          "base_uri": "https://localhost:8080/"
        },
        "id": "hUfoz-Z2kpV7",
        "outputId": "7cfe20ed-7b12-4aaf-886e-46fe867cb46e"
      },
      "source": [
        "# 將串列items的內容以 ' '組成原來字串\n",
        "strRev = ' '.join(items)\n",
        "print(strRev)\n",
        "\n",
        "# 將串列 times 的內容以 '\\'組成原來字串\n",
        "times = str2.split('/')\n",
        "strRev = '\\\\'.join(times) # \\為跳脫字元，須以\\開頭，故用\\\\\n",
        "print(strRev)"
      ],
      "execution_count": null,
      "outputs": [
        {
          "output_type": "stream",
          "text": [
            "How are you doing ? To be or not to be .\n",
            "2021\\6\\15\n"
          ],
          "name": "stdout"
        }
      ]
    },
    {
      "cell_type": "markdown",
      "metadata": {
        "id": "WcbGX371FQ2l"
      },
      "source": [
        "# 輸入到串列\n",
        "1. 從控制台讀取資料，然後存於串列中。\n",
        "2. <font color='red'>可利⽤迴圈於每⼀⾏輸入⼀筆資料項⽬，並將它附加於串列中。</font>"
      ]
    },
    {
      "cell_type": "code",
      "metadata": {
        "colab": {
          "base_uri": "https://localhost:8080/"
        },
        "id": "RQQy-LMKFd8Q",
        "outputId": "b14ae3a5-4b48-497a-f608-35f53c492949"
      },
      "source": [
        "# 讓使用者隨意輸入5個數字\n",
        "list1 = [] \n",
        "\n",
        "for i in range(5):\n",
        "    # list1.append(input())   # 輸入的資料是字串\n",
        "    # list1.append(int(input1  # int(): 將輸入的資料轉為整數\n",
        "    list1.append(eval(input()))   # eval(): 將輸入的資料轉為整數或浮點數\n",
        "print(\"總和 =\", sum(list1), \"平均 =\", sum(list1)/len(list1))"
      ],
      "execution_count": null,
      "outputs": [
        {
          "output_type": "stream",
          "text": [
            "12345\n",
            "12345\n",
            "12345\n",
            "12345\n",
            "12345\n",
            "總和 = 61725 平均 = 12345.0\n"
          ],
          "name": "stdout"
        }
      ]
    },
    {
      "cell_type": "markdown",
      "metadata": {
        "id": "HESUFFLYHafC"
      },
      "source": [
        "3. <font color='red'>**利用輸入一整行透過生成與解析來完成**</font>\n"
      ]
    },
    {
      "cell_type": "code",
      "metadata": {
        "colab": {
          "base_uri": "https://localhost:8080/"
        },
        "id": "siqKAgUIHrvO",
        "outputId": "9aae3505-49e8-4dd4-a78a-e4d78714231a"
      },
      "source": [
        "# 輸入一個數字字串，字串間倆倆以空白相隔\n",
        "# 1 2 3 4.5 78 9.5 5.9\n",
        "s = input()\n",
        "# 以空白分隔每個元素的串列 items\n",
        "items = s.split()\n",
        "# 將 items 的內容轉為數字\n",
        "list1 = [ eval(item) for item in items]\n",
        "# 顯示輸入數字總和與平均\n",
        "print(\"總和 =\", sum(list1), \"平均 =\", sum(list1)/len(list1))\n",
        "\n",
        "# 將輸入資料由小到大排序\n",
        "list1.sort()\n",
        "print(list1)"
      ],
      "execution_count": null,
      "outputs": [
        {
          "output_type": "stream",
          "text": [
            "1 2 3 4.5 78 9.5 5.9\n",
            "總和 = 103.9 平均 = 14.842857142857143\n",
            "[1, 2, 3, 4.5, 5.9, 9.5, 78]\n"
          ],
          "name": "stdout"
        }
      ]
    },
    {
      "cell_type": "markdown",
      "metadata": {
        "id": "w8MwawiyJgAB"
      },
      "source": [
        "# 將串列移位\n",
        "1. 當需要將串列左移或右移，在python的list類別沒提供此⽅法，可以利⽤以下函式完成。\n",
        "![](https://i.imgur.com/pc8079l.png)"
      ]
    },
    {
      "cell_type": "code",
      "metadata": {
        "id": "niPn53MOJ1rq",
        "colab": {
          "base_uri": "https://localhost:8080/"
        },
        "outputId": "48723b53-0604-43cc-875d-eb3d631f0412"
      },
      "source": [
        "def shiftLeft(lst):\n",
        "    temp = lst[0] # 保留第一個元素內容\n",
        "    # 從第2個元素到最後一個元素往左移一個位置\n",
        "    for i in range(1, len(lst)):\n",
        "        lst[i-1]=lst[i]\n",
        "    # 第一個元素內容移到'最後的位置\n",
        "    lst[-1] = temp\n",
        "    # 回傳左移後的串列\n",
        "    return lst\n",
        "\n",
        "list1 = list(range(10))\n",
        "print(list1)\n",
        "print(shiftLeft(list1))"
      ],
      "execution_count": null,
      "outputs": [
        {
          "output_type": "stream",
          "text": [
            "[0, 1, 2, 3, 4, 5, 6, 7, 8, 9]\n",
            "[1, 2, 3, 4, 5, 6, 7, 8, 9, 0]\n"
          ],
          "name": "stdout"
        }
      ]
    },
    {
      "cell_type": "markdown",
      "metadata": {
        "id": "RbDF-axaLC3j"
      },
      "source": [
        "2. 請修改上述程式讓串列內容右移一個位置"
      ]
    },
    {
      "cell_type": "code",
      "metadata": {
        "colab": {
          "base_uri": "https://localhost:8080/"
        },
        "id": "1engMf_jLUDT",
        "outputId": "8d6a4354-19ab-401a-a816-6bf0a9415989"
      },
      "source": [
        "def shiftRight(lst):\n",
        "    temp = lst[-1] # 保留第最後一個元素內容\n",
        "    # 從倒數第2個元素到第一個元素往右移一個位置\n",
        "    for i in range(len(lst)-2, -1, -1):\n",
        "        lst[i+1]=lst[i]\n",
        "    # 最後一個元素內容存到第一個元素的位置\n",
        "    lst[0] = temp\n",
        "    # 回傳左移後的串列\n",
        "    return lst\n",
        "\n",
        "list1 = list(range(10))\n",
        "print(list1)\n",
        "print(shiftRight(list1))"
      ],
      "execution_count": null,
      "outputs": [
        {
          "output_type": "stream",
          "text": [
            "[0, 1, 2, 3, 4, 5, 6, 7, 8, 9]\n",
            "[9, 0, 1, 2, 3, 4, 5, 6, 7, 8]\n"
          ],
          "name": "stdout"
        }
      ]
    },
    {
      "cell_type": "markdown",
      "metadata": {
        "id": "jWvjUthGNBk2"
      },
      "source": [
        "# 個案研究：撲克牌\n",
        "1. 撰寫一個程式，隨機從$52$張撲克牌選出$13$張牌。\n",
        "2. 所有牌皆可使用名為deck的list，初始值為$0 \\sim 51$來表示：\n",
        "- deck = [ x for x in range(52)] 或 deck = list(range(52))\n",
        "- 卡號$0 \\sim 12、13 \\sim 25、26 \\sim 38、39 \\sim 51$分別代表$13$張黑桃(Spades)、$13$張紅心(Hearts)、$13$張方塊(Diamonds)、$13$張梅花(Clubs)。\n",
        "3. 花色判斷：cardNumber // 13 $(0:黑桃、1:紅心、2:方塊、3:梅花)$\n",
        "4. 牌號判斷：cardNumber % 13 $(0:Ace、1:2、\\cdots、10:Jack \\cdots)$\n",
        "5. 使用2個串列(花色與牌號)可大幅減少程式碼。"
      ]
    },
    {
      "cell_type": "code",
      "metadata": {
        "id": "yhThxUzHN0bF"
      },
      "source": [
        "# 產生紀錄52張牌的deck串列\n",
        "deck = [ x for x in range(52)]  # deck = list(range(52))\n",
        "\n",
        "# 紀錄 4 種花色\n",
        "suits = ['Spades', 'Hearts', 'Diamonds', 'Clubs']\n",
        "\n",
        "# 紀錄 13 種牌號\n",
        "ranks = ['Ace', '2', '3', '4', '5', '6', '7', \n",
        "         '8', '9', '10', 'Jack', 'Queen', 'King']\n",
        "\n",
        "# 亂數洗牌\n",
        "import random   # 加入亂數套件\n",
        "#print(deck)\n",
        "random.shuffle(deck) # 將deck內容隨機洗牌\n",
        "print(deck)\n",
        "\n",
        "# 挑13張牌輸出\n",
        "for i in range(13):\n",
        "    suit = deck[i] // 13 # 判別deck[i]的花色索引\n",
        "    rank = deck[i] % 13 # 判別deck[i]的牌號索引\n",
        "    print(\"Card number\", deck[i], \n",
        "        ' is the', ranks[rank], \n",
        "        ' of', suits[suit])"
      ],
      "execution_count": null,
      "outputs": []
    },
    {
      "cell_type": "markdown",
      "metadata": {
        "id": "2u6QILVVU6nj"
      },
      "source": [
        "## 練習：將52張牌分給4個人每人13張"
      ]
    },
    {
      "cell_type": "code",
      "metadata": {
        "colab": {
          "base_uri": "https://localhost:8080/"
        },
        "id": "RQ7l75OhUZvB",
        "outputId": "2989afd8-badf-4e35-84a1-72b91a27d5be"
      },
      "source": [
        "# 產生紀錄52張牌的deck串列\n",
        "deck = [ x for x in range(52)]  # deck = list(range(52))\n",
        "\n",
        "# 紀錄 4 種花色\n",
        "suits = ['Spades', 'Hearts', 'Diamonds', 'Clubs']\n",
        "\n",
        "# 紀錄 13 種牌號\n",
        "ranks = ['Ace', '2', '3', '4', '5', '6', '7', \n",
        "         '8', '9', '10', 'Jack', 'Queen', 'King']\n",
        "\n",
        "# 亂數洗牌\n",
        "import random   # 加入亂數套件\n",
        "random.shuffle(deck) # 將deck內容隨機洗牌\n",
        "\n",
        "########### 使用二維串列的作法##########\n",
        "results = []   \n",
        "for i in range(4):\n",
        "    temp = deck[i*13:(i+1)*13]\n",
        "    random.shuffle(temp)\n",
        "    print(temp)\n",
        "    results.append(temp)\n",
        "\n",
        "def printResult2D(lst):\n",
        "    for i in range(len(lst)):\n",
        "        for x in lst[i]:\n",
        "            suit = suits[x//13]\n",
        "            rank = ranks[x%13]\n",
        "            print(suit, rank, end=', ')\n",
        "        print()\n",
        "\n",
        "print(\"#############Via 2D and shuffle twice#########\")\n",
        "printResult2D(results)\n",
        "\n",
        "########### 使用一維串列的作法##########\n",
        "r1 = deck[0 : 13]\n",
        "r2 = deck[0+13: 13+13]\n",
        "r3 = deck[13+13: 13+13+13]\n",
        "r4 = deck[13+13+13: 13+13+13+13]\n",
        "\n",
        "def printResult1D(lst):\n",
        "    for x in lst:\n",
        "        suit = suits[x//13]\n",
        "        rank = ranks[x%13]\n",
        "        print(suit, rank, end=', ')\n",
        "    print()\n",
        "print(\"#############Via 1D: 1 time shuffle########\")\n",
        "printResult1D(r1)\n",
        "printResult1D(r2)\n",
        "printResult1D(r3)\n",
        "printResult1D(r4)"
      ],
      "execution_count": null,
      "outputs": [
        {
          "output_type": "stream",
          "text": [
            "[48, 45, 26, 7, 30, 33, 2, 8, 4, 24, 32, 9, 41]\n",
            "[22, 0, 43, 38, 18, 42, 49, 34, 13, 21, 27, 6, 44]\n",
            "[36, 39, 35, 23, 1, 16, 15, 31, 46, 12, 11, 14, 47]\n",
            "[20, 28, 40, 17, 37, 51, 29, 10, 3, 19, 25, 50, 5]\n",
            "#############Via 2D and shuffle twice#########\n",
            "Clubs 10, Clubs 7, Diamonds Ace, Spades 8, Diamonds 5, Diamonds 8, Spades 3, Spades 9, Spades 5, Hearts Queen, Diamonds 7, Spades 10, Clubs 3, \n",
            "Hearts 10, Spades Ace, Clubs 5, Diamonds King, Hearts 6, Clubs 4, Clubs Jack, Diamonds 9, Hearts Ace, Hearts 9, Diamonds 2, Spades 7, Clubs 6, \n",
            "Diamonds Jack, Clubs Ace, Diamonds 10, Hearts Jack, Spades 2, Hearts 4, Hearts 3, Diamonds 6, Clubs 8, Spades King, Spades Queen, Hearts 2, Clubs 9, \n",
            "Hearts 8, Diamonds 3, Clubs 2, Hearts 5, Diamonds Queen, Clubs King, Diamonds 4, Spades Jack, Spades 4, Hearts 7, Hearts King, Clubs Queen, Spades 6, \n",
            "#############Via 1D: 1 time shuffle########\n",
            "Spades 8, Spades 3, Spades 10, Clubs 10, Diamonds 5, Hearts Queen, Diamonds Ace, Spades 9, Diamonds 7, Clubs 7, Spades 5, Diamonds 8, Clubs 3, \n",
            "Hearts Ace, Hearts 9, Hearts 10, Clubs Jack, Hearts 6, Diamonds King, Clubs 4, Clubs 5, Spades Ace, Spades 7, Clubs 6, Diamonds 9, Diamonds 2, \n",
            "Spades 2, Hearts 3, Spades King, Diamonds 6, Hearts 2, Clubs Ace, Diamonds Jack, Diamonds 10, Clubs 8, Clubs 9, Hearts 4, Hearts Jack, Spades Queen, \n",
            "Clubs King, Hearts King, Hearts 7, Diamonds 4, Clubs 2, Diamonds Queen, Hearts 5, Hearts 8, Spades 6, Spades Jack, Spades 4, Diamonds 3, Clubs Queen, \n"
          ],
          "name": "stdout"
        }
      ]
    },
    {
      "cell_type": "markdown",
      "metadata": {
        "id": "H1FP1poLVX3C"
      },
      "source": [
        "# 習題⼀：反轉輸入的數值\n",
        "1. 請撰寫⼀程式，讀取⼀串列的整數($0\\sim99$)，接著顯⽰反轉所讀取的數值。每列最多顯示10個數字\n",
        "2. 輸出入範例：<br/><font color='red'>\n",
        "請輸入⼀列數字以空⽩隔開：$1\\ 5\\ 8\\ 9$<br/>\n",
        "$9\\ 8\\ 5\\ 1$<br/>\n",
        "請輸入⼀列數字以空⽩隔開$1\\ 5\\ 89\\ 88\\ 20\\ 14\\ 2\\ 3\\ 6\\ 9\\ 8\\ 7\\ 5$<br/>\n",
        "$5\\ 7\\ 8\\ 9\\ 6\\ 3\\ 2\\ 14\\ 20\\ 88$ <br> $89\\ 5\\ 1$\n",
        "</font>"
      ]
    },
    {
      "cell_type": "markdown",
      "metadata": {
        "id": "wx0uVlUFWumr"
      },
      "source": [
        "- 讀取使用者輸入的資料後回傳一個串列: def readInput()\n",
        "\n",
        "1.   清單項目\n",
        "2.   清單項目\n",
        "\n"
      ]
    },
    {
      "cell_type": "code",
      "metadata": {
        "id": "H18dUXtaWnso"
      },
      "source": [
        "# 讀取使用者輸入的資料\n",
        "def readInput():\n",
        "    result = []  # 建立一個空串列用來儲存使用者輸入的資料\n",
        "    s = input('請輸入⼀列數字以空⽩隔開：') # 提示使用者輸入一列數字\n",
        "    items = s.split() # 將s字串以空白隔開每個元素後將元素存入items串列\n",
        "    result = [eval(x) for x in items] # 將 items串列中的元素轉為數字後存入串列result\n",
        "    return result # 回傳一個串列"
      ],
      "execution_count": null,
      "outputs": []
    },
    {
      "cell_type": "markdown",
      "metadata": {
        "id": "zAEI1UQKYaWB"
      },
      "source": [
        "- 輸出串列的元素，每列最多顯示10個數字: def displayList(lst)\n",
        "    - lst參數: 要輸出內容的串列 "
      ]
    },
    {
      "cell_type": "code",
      "metadata": {
        "id": "yOmQL-I9YyB4"
      },
      "source": [
        "def displayList(lst, width=10):\n",
        "    for i in range(len(lst)):\n",
        "        if (i+1) % width == 0:\n",
        "            print(format(lst[i], \"2d\"))\n",
        "        else:\n",
        "            print(format(lst[i], \"2d\"), end=' ')"
      ],
      "execution_count": null,
      "outputs": []
    },
    {
      "cell_type": "markdown",
      "metadata": {
        "id": "L7C3MYgwZbmV"
      },
      "source": [
        "- 主程式\n",
        "    - 讀取輸入的資料串列\n",
        "    - 反轉串列\n",
        "    - 輸出串列"
      ]
    },
    {
      "cell_type": "code",
      "metadata": {
        "colab": {
          "base_uri": "https://localhost:8080/"
        },
        "id": "96btE3LxZr40",
        "outputId": "1873760c-d5b5-4933-90cf-90e92a5a800c"
      },
      "source": [
        "def main():\n",
        "    lst = readInput()\n",
        "    lst.reverse()\n",
        "    displayList(lst)\n",
        "\n",
        "main()"
      ],
      "execution_count": null,
      "outputs": [
        {
          "output_type": "stream",
          "text": [
            "請輸入⼀列數字以空⽩隔開：1 5 89 88 20 14 2 3 6 9 8 7 5\n",
            " 5  7  8  9  6  3  2 14 20 88\n",
            "89  5  1 "
          ],
          "name": "stdout"
        }
      ]
    },
    {
      "cell_type": "code",
      "metadata": {
        "colab": {
          "base_uri": "https://localhost:8080/"
        },
        "id": "8sh4xlGB47XO",
        "outputId": "0263394f-7fc9-4783-8520-3a865b129887"
      },
      "source": [
        "numbers = readInput()\n",
        "for i in range(-1, -(len(numbers)+1), -1):\n",
        "    print(numbers[i], end=' ')"
      ],
      "execution_count": null,
      "outputs": [
        {
          "output_type": "stream",
          "text": [
            "請輸入⼀列數字以空⽩隔開：1 5 8 9\n",
            "9 8 5 1 "
          ],
          "name": "stdout"
        }
      ]
    },
    {
      "cell_type": "markdown",
      "metadata": {
        "id": "119h4w_FbaxP"
      },
      "source": [
        "# 習題⼆：分析成績\n",
        "1. 請撰寫⼀程式，讀取未指定個數的成績資料，判斷有多少分數⾼於或等於平均值，有多少分數低於平均值。\n",
        "2. 假設輸入的資料以⼀個空⽩彼此隔開。\n",
        "3. 輸出入範例：<br/><font color='red'>\n",
        "請輸入⼀列數字以空⽩隔開：$10\\ 20\\ 30\\ 40\\ 50\\ 60\\ 70\\ 80\\ 90\\ 100\\ 11\\ 22\\ 33\\ 44\\ 55\\ 66\\ 77\\ 88\\ 99$<br/>\n",
        "平均值： $55.0$<br/>\n",
        "⾼於等於平均值的數量：$10$ 低於平均值的數量：$9$\n",
        "</font>"
      ]
    },
    {
      "cell_type": "code",
      "metadata": {
        "colab": {
          "base_uri": "https://localhost:8080/"
        },
        "id": "lq_SQWCab-ZA",
        "outputId": "4e8f2c93-5f37-4892-93e0-2083f7eb2ad4"
      },
      "source": [
        "# 讀取使用者輸入的資料\n",
        "def readInput():\n",
        "    result = []  # 建立一個空串列用來儲存使用者輸入的資料\n",
        "    s = input('請輸入⼀列數字以空⽩隔開：') # 提示使用者輸入一列數字\n",
        "    items = s.split() # 將s字串以空白隔開每個元素後將元素存入items串列\n",
        "    result = [eval(x) for x in items] # 將 items串列中的元素轉為數字後存入串列result\n",
        "    return result # 回傳一個串列\n",
        "\n",
        "# 計算平均值\n",
        "def computeAvg(lst):\n",
        "    return sum(lst)/len(lst)\n",
        "\n",
        "# 計算大於等於平均值的人數及小於平均值的人數\n",
        "def greatLessEqual(lst):\n",
        "    avg = computeAvg(lst) # 計算lst的平均值\n",
        "    great = []      # 儲存 >= avg的數值\n",
        "    less = []      # 儲存 < avg的數值\n",
        "    for num in lst:\n",
        "        if num>=avg: great.append(lst[i])\n",
        "        else: less.append(lst[i])\n",
        "    return great, less\n",
        "\n",
        "# 主程式\n",
        "def main():\n",
        "    lst = readInput()\n",
        "    great, less = greatLessEqual(lst)\n",
        "    print(\"平均值：\", computeAvg(lst))\n",
        "    print(\"⾼於等於平均值的數量：\", len(great), \"低於平均值的數量:\", len(less))\n",
        "main()"
      ],
      "execution_count": null,
      "outputs": [
        {
          "output_type": "stream",
          "text": [
            "請輸入⼀列數字以空⽩隔開：10 20 30 40 50 60 70 80 90 100 11 22 33 44 55 66 77 88 99\n",
            "平均值： 55.0\n",
            "⾼於等於平均值的數量： 10 低於平均值的數量: 9\n"
          ],
          "name": "stdout"
        }
      ]
    },
    {
      "cell_type": "markdown",
      "metadata": {
        "id": "fFOeNZDjNDy7"
      },
      "source": [
        "# 習題⼆：分析成績\n",
        "1. 請撰寫⼀程式，讀取未指定個數的成績資料，判斷有多少分數⾼於或等於平均值，有多少分數低於平均值。\n",
        "2. 假設輸入的資料以⼀個空⽩彼此隔開。<font color='red'>輸出的數字間以⼀個空⽩彼此隔開。</font>\n",
        "3. 輸出入範例：<br/><font color='red'>\n",
        "請輸入⼀列數字以空⽩隔開：$10\\ 20\\ 30\\ 40\\ 50\\ 60\\ 70\\ 80\\ 90\\ 100\\ 11\\ 22\\ 33\\ 44\\ 55\\ 66\\ 77\\ 88\\ 99$<br/>\n",
        "平均值： $55.0$<br/>\n",
        "⾼於等於平均值的數量： $10$ 個，內容為: $60\\ 70\\ 80\\ 90\\ 100\\ 55\\ 66\\ 77\\ 88\\ 99$<br/>\n",
        "低於平均值的數量: $9$ 個，內容為: $10\\ 20\\ 30\\ 40\\ 50\\ 11\\ 22\\ 33\\ 44$\n",
        "</font>"
      ]
    },
    {
      "cell_type": "code",
      "metadata": {
        "colab": {
          "base_uri": "https://localhost:8080/"
        },
        "id": "ThAVXkPkNN0a",
        "outputId": "cb81a430-9a38-4485-ccc5-fa244537b237"
      },
      "source": [
        "# 讀取使用者輸入的資料\n",
        "def readInput():\n",
        "    result = []  # 建立一個空串列用來儲存使用者輸入的資料\n",
        "    s = input('請輸入⼀列數字以空⽩隔開：') # 提示使用者輸入一列數字\n",
        "    items = s.split() # 將s字串以空白隔開每個元素後將元素存入items串列\n",
        "    result = [eval(x) for x in items] # 將 items串列中的元素轉為數字後存入串列result\n",
        "    return result # 回傳一個串列\n",
        "\n",
        "# 計算平均值\n",
        "def computeAvg(lst):\n",
        "    return sum(lst)/len(lst)\n",
        "\n",
        "# 計算大於等於平均值的人數及小於平均值的人數\n",
        "def greatLessEqual(lst):\n",
        "    avg = computeAvg(lst) # 計算lst的平均值\n",
        "    great = []      # 儲存 >= avg的數值\n",
        "    less = []      # 儲存 < avg的數值\n",
        "    for num in lst:\n",
        "        if num>=avg: great.append(str(num))\n",
        "        else: less.append(str(num))\n",
        "    return great, less\n",
        "\n",
        "# 主程式\n",
        "def main():\n",
        "    lst = readInput()\n",
        "    great, less = greatLessEqual(lst)\n",
        "    print(\"平均值：\", computeAvg(lst))\n",
        "    \n",
        "    print(\"⾼於等於平均值的數量：\", len(great), \"個，內容為:\", \" \".join(great))\n",
        "    print(\"低於平均值的數量:\", len(less), \"個，內容為:\", \" \".join(less))\n",
        "main()"
      ],
      "execution_count": null,
      "outputs": [
        {
          "output_type": "stream",
          "text": [
            "請輸入⼀列數字以空⽩隔開：10 20 30 40 50 60 70 80 90 100 11 22 33 44 55 66 77 88 99\n",
            "平均值： 55.0\n",
            "⾼於等於平均值的數量： 10 個，內容為: 60 70 80 90 100 55 66 77 88 99\n",
            "低於平均值的數量: 9 個，內容為: 10 20 30 40 50 11 22 33 44\n"
          ],
          "name": "stdout"
        }
      ]
    },
    {
      "cell_type": "markdown",
      "metadata": {
        "id": "d26yIrrpk7pD"
      },
      "source": [
        "# 習題三：質數判斷\n",
        "1. 請撰寫⼀程式，利⽤串列儲存質數，使⽤串列中的質數來判斷n是否為質數，列出前50個質數，每列10個。\n",
        "2. 比較有效率的做法為：判斷是否有⼩於或等於$\\sqrt{n}$的質數可整除n。如果沒有就代表n是質數。\n",
        "3. 輸出入範例：\n",
        "\n",
        "![](https://i.imgur.com/8JraHSr.png)"
      ]
    },
    {
      "cell_type": "markdown",
      "metadata": {
        "id": "p18IbSnIquYD"
      },
      "source": [
        "- isPrime(n, primes): 判斷n是否為質數\n",
        "    * n: 要判斷整數\n",
        "    * primes: 儲存目前已記錄的質數串列"
      ]
    },
    {
      "cell_type": "code",
      "metadata": {
        "id": "LiiPI5qyrXcn"
      },
      "source": [
        "def isPrime(n, primes):\n",
        "    if n==2: return True   # 2是唯一的偶數質數\n",
        "    elif n%2==0: return False # 2以外的偶數都不是質數\n",
        "    else: # 使⽤串列中的質數來判斷n是否為質數 \n",
        "        i=0\n",
        "        # 取出每個質數來判斷n是否為質數\n",
        "        while primes[i]*primes[i]<=n:\n",
        "            if n%primes[i]==0: return False\n",
        "            i += 1\n",
        "        return True"
      ],
      "execution_count": null,
      "outputs": []
    },
    {
      "cell_type": "markdown",
      "metadata": {
        "id": "gb5wdGLFsMkf"
      },
      "source": [
        "- getNumberOfPrimes(n): 取得儲存前 n 個質數的串列"
      ]
    },
    {
      "cell_type": "code",
      "metadata": {
        "id": "nKtnbl6hsZRP"
      },
      "source": [
        "def getNumberOfPrimes(n):\n",
        "    counts = 1\n",
        "    primes = [2]\n",
        "    testNumber = 3\n",
        "    while counts<n:\n",
        "        if isPrime(testNumber, primes): \n",
        "            primes.append(testNumber)\n",
        "            counts+=1\n",
        "        testNumber += 2\n",
        "    \n",
        "    return primes"
      ],
      "execution_count": null,
      "outputs": []
    },
    {
      "cell_type": "markdown",
      "metadata": {
        "id": "jkTkRTjRrDYq"
      },
      "source": [
        "- displayList(lst, width): 列出串列lst的每一個元素，每列width個"
      ]
    },
    {
      "cell_type": "code",
      "metadata": {
        "id": "ixaoCURgrYtx"
      },
      "source": [
        "def displayList(lst, width):\n",
        "    for i in range(len(lst)):\n",
        "        if(i+1)%width==0: print(format(lst[i], '4d'))\n",
        "        else: print(format(lst[i], '4d'), end='')"
      ],
      "execution_count": null,
      "outputs": []
    },
    {
      "cell_type": "markdown",
      "metadata": {
        "id": "zjOZcI37sD8a"
      },
      "source": [
        "- 主程式"
      ]
    },
    {
      "cell_type": "code",
      "metadata": {
        "colab": {
          "base_uri": "https://localhost:8080/"
        },
        "id": "vMTqVB0_sG2_",
        "outputId": "124c0619-44a5-429c-f671-7dc8f4992d81"
      },
      "source": [
        "def main():\n",
        "    primes = getNumberOfPrimes(50)\n",
        "    displayList(primes, 10)\n",
        "main()"
      ],
      "execution_count": null,
      "outputs": [
        {
          "output_type": "stream",
          "text": [
            "   2   3   5   7  11  13  17  19  23  29\n",
            "  31  37  41  43  47  53  59  61  67  71\n",
            "  73  79  83  89  97 101 103 107 109 113\n",
            " 127 131 137 139 149 151 157 163 167 173\n",
            " 179 181 191 193 197 199 211 223 227 229\n"
          ],
          "name": "stdout"
        }
      ]
    },
    {
      "cell_type": "markdown",
      "metadata": {
        "id": "JPjsmgiylmFO"
      },
      "source": [
        "# 習題四：找出最⼩元素的索引值\n",
        "1. 請撰寫⼀程式，回傳⼀個整數串列中最⼩元素的索引值。若最⼩元素個數⼤於1，則回傳最⼩索引值。\n",
        "2. 請使⽤以下標頭形式：<br>\n",
        "def indexOfSmallestElement(lst):\n",
        "3. 撰寫⼀測試程式，提⽰使⽤者輸入數值串列，接著呼叫此函式回傳最⼩元素的索引值。\n",
        "4. 輸出入範例：<br><font color='red'>\n",
        "請輸入⼀列數字以空⽩隔開：$1\\ 2\\ 3\\ 4\\ 5\\ 4\\ 3\\ 2\\ 1\\ 0\\ -8\\ 3\\ 9$<br>\n",
        "    $-8\\ 10$\n",
        "    </font>"
      ]
    },
    {
      "cell_type": "code",
      "metadata": {
        "id": "Zbz6kQ2enARH"
      },
      "source": [
        "# 讀取使用者輸入的資料\n",
        "def readInput():\n",
        "    result = []  # 建立一個空串列用來儲存使用者輸入的資料\n",
        "    s = input('請輸入⼀列數字以空⽩隔開：') # 提示使用者輸入一列數字\n",
        "    items = s.split() # 將s字串以空白隔開每個元素後將元素存入items串列\n",
        "    result = [eval(x) for x in items] # 將 items串列中的元素轉為數字後存入串列result\n",
        "    return result # 回傳一個串列\n",
        "\n",
        "# 回傳⼀個整數串列中最⼩元素的索引值與值。若最⼩元素個數⼤於1，則回傳最⼩索引值。\n",
        "def indexOfSmallestElement(lst):\n",
        "    # 先假設第1個元素是最小值\n",
        "    minVal, minIdx = lst[0], 0\n",
        "    # 從第2個元素到最後一個元素與最小值比較\n",
        "    for i in range(1, len(lst)):\n",
        "        # 與 最小值比較\n",
        "        if lst[i]<minVal:\n",
        "            minVal = lst[i]\n",
        "            minIdx = i\n",
        "    # 回傳最⼩元素的索引值與值\n",
        "    return  minIdx, minVal\n",
        "# 主程式\n",
        "def main():\n",
        "    lst = readInput()\n",
        "    minIdx, minVal = indexOfSmallestElement(lst)\n",
        "    print(minVal, minIdx)\n",
        "main()"
      ],
      "execution_count": null,
      "outputs": []
    },
    {
      "cell_type": "markdown",
      "metadata": {
        "id": "06JoBVCppbgO"
      },
      "source": [
        "# 習題五: 反轉串列\n",
        "1. 請**撰寫一函式reversList，將傳送的參數串列加以反轉並回傳**。\n",
        "2. 撰寫一測試程式，提示使用者輸入數值串列，呼叫此函式將串列內容反轉，最後顯示串列內容，每列顯示10個元素。\n",
        "3. 執行範例：<br><font color='red'>\n",
        "請輸入一列數字以空白隔開：$1\\ 2\\ 3\\ 4\\ 5\\ 4\\ 3\\ 2\\ 1\\ 0\\ -8\\ 3\\ 9$<br>\n",
        "$9\\ 3\\ -8\\ 0\\ 1\\ 2\\ 3\\ 4\\ 5\\ 4$<br> $3\\ 2\\ 1$\n",
        "</font>"
      ]
    },
    {
      "cell_type": "markdown",
      "metadata": {
        "id": "3k4AyPv0yCnz"
      },
      "source": [
        "- reverseList(lst): 將 lst 串列內容反轉後傳回\n",
        "- 演算方式推導1: $lst[0] \\to lst[-1] = lst[0] \\to lst[-1+len(lst)]$\n",
        "- 演算方式推導2: $lst[1] \\to lst[-2] = lst[1] \\to lst[-2+len(lst)]$\n",
        "- 使用 i 帶入: $lst[i] \\to lst[-(i+1)] = lst[i] \\to lst[-(i+1)+len(lst)]$\n",
        "- 執行區間：lst長度的一半"
      ]
    },
    {
      "cell_type": "code",
      "metadata": {
        "id": "rvB3_zShx-tU"
      },
      "source": [
        "def reverseList(lst):\n",
        "    for i in range(len(lst)//2):\n",
        "        lst[i], lst[-(i+1)] = lst[-(i+1)], lst[i]\n",
        "    return lst"
      ],
      "execution_count": null,
      "outputs": []
    },
    {
      "cell_type": "markdown",
      "metadata": {
        "id": "6LFt7MdVzoXk"
      },
      "source": [
        "- 主程式"
      ]
    },
    {
      "cell_type": "code",
      "metadata": {
        "colab": {
          "base_uri": "https://localhost:8080/"
        },
        "id": "8zz7w0Mpzr-6",
        "outputId": "935d92d4-574d-4a0e-fcd1-8b6eed044671"
      },
      "source": [
        "def main():\n",
        "    numbers = readInput()\n",
        "    numbers = reverseList(numbers)\n",
        "    displayList(numbers, 10)\n",
        "main()"
      ],
      "execution_count": null,
      "outputs": [
        {
          "output_type": "stream",
          "text": [
            "請輸入⼀列數字以空⽩隔開：1 2 3 4 5 4 3 2 1 0 -8 3 9\n",
            " 9  3 -8  0  1  2  3  4  5  4\n",
            " 3  2  1 "
          ],
          "name": "stdout"
        }
      ]
    },
    {
      "cell_type": "markdown",
      "metadata": {
        "id": "gEQWaJGIl9Z-"
      },
      "source": [
        "# 習題六：計算GCD\n",
        "1. 請撰寫⼀函式，回傳整數串列的最⼤公因數(Greatest Common Divisor, GCD)\n",
        "2. 請使⽤以下函式標頭。<br>\n",
        "\n",
        "    **def gcd(numbers):**\n",
        "3. 撰寫⼀測試程式，提⽰使⽤者輸入整數值串列，呼叫此函式找出串列數字的GCD，最後顯⽰GCD。\n",
        "4. 輸出入範例：<br><font color='red'>\n",
        "請輸入⼀列數字以空⽩隔開：$100\\ 150\\ 480\\ 990\\ 15000\\ 15$<br>\n",
        "$5$\n",
        "    </font>"
      ]
    },
    {
      "cell_type": "markdown",
      "metadata": {
        "id": "8FeP_jRc1uq2"
      },
      "source": [
        "- gcd2(n1, n2): 計算n1, n2的GCD"
      ]
    },
    {
      "cell_type": "code",
      "metadata": {
        "id": "AtDmaaUn10k1"
      },
      "source": [
        "def gcd2(n1, n2):\n",
        "    gcd = 1\n",
        "    k = 2\n",
        "    while k<=n1 and k<=n2:\n",
        "        if n1%k==0 and n2%k==0: gcd=k\n",
        "        k+=1\n",
        "    return gcd"
      ],
      "execution_count": null,
      "outputs": []
    },
    {
      "cell_type": "markdown",
      "metadata": {
        "id": "dtXn7PBy2V1c"
      },
      "source": [
        "- gcd(lst): 計算 lst所有元素的最大GCD"
      ]
    },
    {
      "cell_type": "code",
      "metadata": {
        "id": "q5-KVfxU2g-c"
      },
      "source": [
        "def gcd(lst):\n",
        "    gcd=lst[0]\n",
        "    for i in range(1, len(lst)):\n",
        "        gcd = gcd2(gcd, lst[i])\n",
        "    return gcd"
      ],
      "execution_count": null,
      "outputs": []
    },
    {
      "cell_type": "markdown",
      "metadata": {
        "id": "nzBo_GRt23KT"
      },
      "source": [
        "- 主程式"
      ]
    },
    {
      "cell_type": "code",
      "metadata": {
        "colab": {
          "base_uri": "https://localhost:8080/"
        },
        "id": "AsF6KmHr26Mb",
        "outputId": "0369aa89-a230-41a9-ec05-0a8dfd8c7c13"
      },
      "source": [
        "def main():\n",
        "    numbers = readInput()\n",
        "    GCD = gcd(numbers)\n",
        "    print(GCD)\n",
        "main()"
      ],
      "execution_count": null,
      "outputs": [
        {
          "output_type": "stream",
          "text": [
            "請輸入⼀列數字以空⽩隔開：100 150 480 990 15000 15\n",
            "5\n"
          ],
          "name": "stdout"
        }
      ]
    },
    {
      "cell_type": "markdown",
      "metadata": {
        "id": "VHlI6h8smR9w"
      },
      "source": [
        "# 習題七：遊戲：八皇后問題\n",
        "1. 經典的八皇后問題(Eight Queens puzzle) ，⽬的是要在棋盤上擺放八個皇后，使得不會有任兩個皇后互相攻擊(也就是說，不會有任兩個皇后位於同⼀列同⼀⾏，或同個對⾓線)。\n",
        "2. 這有多種可能的解法，請撰寫⼀程式顯⽰其中⼀種解法。\n",
        "3. 輸出入範例：\n",
        "\n",
        "    ![](https://i.imgur.com/iK5x4Sw.png)"
      ]
    },
    {
      "cell_type": "code",
      "metadata": {
        "id": "MVKOosvoHs58"
      },
      "source": [
        "# -*- coding: utf-8 -*-\n",
        "\"\"\"\n",
        "Created on Wed Feb 19 09:29:38 2020\n",
        "遊戲：八皇后問題\n",
        "\n",
        "經典的八皇后問題(Eight Queens puzzle) ，目的是要在棋盤上擺放八個皇后，\n",
        "使得不會有任兩個皇后互相攻擊\n",
        "(也就是說，不會有任兩個皇后位於同一列同一行，或同個對角線)。\n",
        "這有多種可能的解法，請撰寫一程式顯示其中一種解法。\n",
        "\n",
        "@author: Jose Tsai\n",
        "\"\"\"\n",
        "\n",
        "# 主程式\n",
        "def main():\n",
        "    # 建立一個一為串列包含8個元素，初值為-1\n",
        "    # -1代表還未放入Queen\n",
        "    # [0, 5, ....]：代表在第0的列Queen放在行0的位置，在第1的列Queen放在行5的位置\n",
        "    # 列索引：0 ~ 7；行索引：0 ~ 7\n",
        "    queens = [-1] * 8\n",
        "    \n",
        "    # 初始化第0列擺放Queen的位置在第0行\n",
        "    queens[0] = 0\n",
        "    \n",
        "    # k：要測試的列編號，k-1：往前回朔之前以擺放的列編號(用來重新調整位置)\n",
        "\n",
        "    k = 1    # 初值為第1列\n",
        "    \n",
        "    # 當列編號在 0 ~ 7之間時，找到合適的行作為Queen擺放位置\n",
        "    while k >= 0 and k <= 7:\n",
        "        # 在第k列找到合適的行j作為Queen擺放的位置\n",
        "        j = findPosition(k, queens)\n",
        "        # 若回傳-1，代表需要回朔之前已擺放Queen的位置(重新調整Queen位置)\n",
        "        if j < 0:\n",
        "            # 將第k列Queen的位置設為-1代表還未放入Queen\n",
        "            queens[k] = -1\n",
        "            # 回到上一列重新調整Queen所在位置\n",
        "            k -= 1\n",
        "        else: # 有合適的位置\n",
        "            # 將第k列Queen的位置，設為j(行)\n",
        "            queens[k] = j\n",
        "            # 繼續下一列尋找Queen合適的位置\n",
        "            k += 1\n",
        "    \n",
        "    # 印出結果\n",
        "    printResult(queens)\n",
        "\n",
        "# 在第k列找到合適的行j作為Queen擺放的位置\n",
        "def findPosition(k, queens):\n",
        "    # 若第k列中還未有填入合適位置(-1)時，從第0行開始尋找\n",
        "    # 若第k列中已經有填入合適位置(不是-1)時，從合適位置的下一行開始尋找\n",
        "    #print('k=', k, 'Q=', queens[k])\n",
        "    start = 0 if queens[k]==-1 else (queens[k]+1)\n",
        "    \n",
        "    # 從start到第7行，測試(k, j)位置是否為合適位置\n",
        "    for j in range(start, 8):\n",
        "        # 判斷是否為合適的位置\n",
        "        if isValid(k, j, queens):\n",
        "            # 回傳在第k列要放在第j行的位置\n",
        "            return j\n",
        "    # 沒有合適的位置，回傳-1\n",
        "    return -1\n",
        "\n",
        "# 判斷在第k列，第j行的位置是否為合適的8皇后位置\n",
        "def isValid(k, j, queens):\n",
        "    #print('k=',k, 'j=',j)\n",
        "    # 判斷同一行上是否有Queen\n",
        "    # 已經擺放的列(0 ~ k-1列)上已出現過第j行\n",
        "    for i in range(k):\n",
        "        if queens[i]==j:   # 第i列已經擺放在第j行上，重複擺放\n",
        "            return False   # 回傳不合法\n",
        "    \n",
        "    # 判斷對角線(往左上)，直到(0, 0)的位置\n",
        "    # (k, j)位置往左上對角線：(k-1, j-1), (k-2, j-2)........\n",
        "    # 例如：(k, j) = (4, 3)時往左上對角線為(3, 2), (2, 1), (1, 0)\n",
        "    # 為對角線往左上的3個位置，檢查每列擺放的位置是否為對角線Y位置\n",
        "    # 若第3列第2行有擺放時，queens[3]=2，同理queens[2]=1, queens[1]=0不合適\n",
        "    row = k - 1   # 往上\n",
        "    col = j - 1   # 往左\n",
        "    while row >= 0 and col >= 0:\n",
        "        # 對角線列是否擺放對角線的行數\n",
        "        if queens[row]==col:\n",
        "            return False\n",
        "        # 繼續往左上移動\n",
        "        row -= 1\n",
        "        col -= 1\n",
        "    \n",
        "    # 判斷對角線(往右上)，直到(0, 7)的位置\n",
        "    # (k, j)位置往右上對角線：(k-1, j+1), (k-2, j+2)......\n",
        "    # 例如：(k, j) = (4, 3)時往右上對角線為(3, 4), (2, 5), (1, 6), (0, 7)\n",
        "    # 為往右上對角線的4個位置，檢查每列擺放的位置是否為對角線Y位置\n",
        "    # 若第3列第2行有擺放時，queens[3]=2，同理queens[2]=1, queens[1]=0不合適\n",
        "    row = k - 1   # 往上\n",
        "    col = j + 1   # 往右\n",
        "    # 右上最後為(0, 7)\n",
        "    while row >= 0 and col <= 7:\n",
        "        # 對角線列是否擺放對角線的行數\n",
        "        if queens[row]==col:\n",
        "            return False\n",
        "        # 繼續往右上移動\n",
        "        row -= 1\n",
        "        col += 1\n",
        "    \n",
        "    # 在第k列可以將Queen擺放在第j行的位置\n",
        "    return True\n",
        "\n",
        "# 列印8皇后所在位置\n",
        "def printResult(queens):\n",
        "    # 輸出每列皇后所在位置：格式為  列編號 → 行編號\n",
        "    for i in range(8):\n",
        "        print(str(i) + \" → \" + str(queens[i]))\n",
        "    \n",
        "    print()\n",
        "\n",
        "    # 顯示圖形利用二維方式處理\n",
        "    # 有8列\n",
        "    for i in range(8):\n",
        "        # 在顯示|Q|前，顯示| ，共有queens[i]個\n",
        "        for j in range(queens[i]):\n",
        "            print(\"| \", end = \"\")\n",
        "        \n",
        "        # 顯示|Q|\n",
        "        print(\"|Q|\", end = \"\")\n",
        "        \n",
        "        # 在顯示|Q|後，顯示 |，直到第8個\n",
        "        for j in range(queens[i] + 1, 8):\n",
        "            print(\" |\", end = \"\")\n",
        "        \n",
        "        # 換下一行\n",
        "        print()\n",
        "\n",
        "# 呼叫主程式\n",
        "main()\n"
      ],
      "execution_count": null,
      "outputs": []
    },
    {
      "cell_type": "markdown",
      "metadata": {
        "id": "HlA_-rBb2595"
      },
      "source": [
        "# <font color='red'>練習題：八皇后問題\n",
        "1. 經典的八皇后問題(Eight Queens puzzle) ，⽬的是要在棋盤上擺放八個皇后，使得不會有任兩個皇后互相攻擊(也就是說，不會有任兩個皇后位於同⼀列同⼀⾏，或同個對⾓線)。\n",
        "2. 這有多種可能的解法，請撰寫⼀程式顯⽰所有可能的解法。並繪製其位置圖。\n",
        "</font>"
      ]
    }
  ]
}