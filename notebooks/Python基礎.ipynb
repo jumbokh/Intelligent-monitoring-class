{
  "nbformat": 4,
  "nbformat_minor": 0,
  "metadata": {
    "colab": {
      "name": "Python基礎.ipynb",
      "provenance": [],
      "include_colab_link": true
    },
    "kernelspec": {
      "name": "python3",
      "display_name": "Python 3"
    },
    "language_info": {
      "name": "python"
    }
  },
  "cells": [
    {
      "cell_type": "markdown",
      "metadata": {
        "id": "view-in-github",
        "colab_type": "text"
      },
      "source": [
        "<a href=\"https://colab.research.google.com/github/jumbokh/Intelligent-monitoring-class/blob/main/notebooks/Python%E5%9F%BA%E7%A4%8E.ipynb\" target=\"_parent\"><img src=\"https://colab.research.google.com/assets/colab-badge.svg\" alt=\"Open In Colab\"/></a>"
      ]
    },
    {
      "cell_type": "markdown",
      "metadata": {
        "id": "95hYKJ6lYBc8"
      },
      "source": [
        "## 變數位址意義"
      ]
    },
    {
      "cell_type": "code",
      "metadata": {
        "colab": {
          "base_uri": "https://localhost:8080/"
        },
        "id": "anmNPQprXyz7",
        "outputId": "8bb1886f-6ac6-425f-f9be-a30c68031cd3"
      },
      "source": [
        "x, y, z = 10, 10, 10\n",
        "\n",
        "print(id(x), id(y), id(z))"
      ],
      "execution_count": null,
      "outputs": [
        {
          "output_type": "stream",
          "text": [
            "94613292575520 94613292575520 94613292575520\n"
          ],
          "name": "stdout"
        }
      ]
    },
    {
      "cell_type": "markdown",
      "metadata": {
        "id": "geqGEpnRZAa_"
      },
      "source": [
        "## 兩數互換"
      ]
    },
    {
      "cell_type": "code",
      "metadata": {
        "colab": {
          "base_uri": "https://localhost:8080/"
        },
        "id": "6SztSdjSZKOH",
        "outputId": "39aa104d-2fca-4213-dbbf-901bbbe31fb9"
      },
      "source": [
        "x, y = 100, 200\n",
        "print(f'before swap: x={x} y={y}')\n",
        "x, y = y, x\n",
        "print(f'after  swap: x={x} y={y}')"
      ],
      "execution_count": null,
      "outputs": [
        {
          "output_type": "stream",
          "text": [
            "before swap: x=100 y=200\n",
            "after  swap: x=200 y=100\n"
          ],
          "name": "stdout"
        }
      ]
    },
    {
      "cell_type": "markdown",
      "metadata": {
        "id": "n4RoVDLHZ0AG"
      },
      "source": [
        "# 基本資料型態\n",
        "1. 數值: 整數與小數 \n",
        "2. 布林: True 與 False\n",
        "3. 文字序列型態(字串) \n",
        "4. 序列型態: list(串列), tuple(元組)\n",
        "6. 對映型態: dict(字典) \n",
        "7. 集合型態: set(集合)"
      ]
    },
    {
      "cell_type": "markdown",
      "metadata": {
        "id": "-kB4OtEcdXvc"
      },
      "source": [
        "## 整數: int\n",
        "python3 已經將整數可以儲存空間大小的限制拿掉了"
      ]
    },
    {
      "cell_type": "code",
      "metadata": {
        "colab": {
          "base_uri": "https://localhost:8080/"
        },
        "id": "A9v-0iGQdfyj",
        "outputId": "5f44f3f6-97af-4e80-c7aa-d9e6b564593b"
      },
      "source": [
        "print(5**100)"
      ],
      "execution_count": null,
      "outputs": [
        {
          "output_type": "stream",
          "text": [
            "7888609052210118054117285652827862296732064351090230047702789306640625\n"
          ],
          "name": "stdout"
        }
      ]
    },
    {
      "cell_type": "markdown",
      "metadata": {
        "id": "lL0HopIqd-l8"
      },
      "source": [
        "## 浮點數: float\n",
        "有小數點的數字"
      ]
    },
    {
      "cell_type": "code",
      "metadata": {
        "colab": {
          "base_uri": "https://localhost:8080/"
        },
        "id": "LXxHELoweMXC",
        "outputId": "46aec731-f103-4aaf-b689-c37bb01ed3d4"
      },
      "source": [
        "x,y = 5.5, 10\n",
        "print(type(x))\n",
        "print(type(y))"
      ],
      "execution_count": null,
      "outputs": [
        {
          "output_type": "stream",
          "text": [
            "<class 'float'>\n",
            "<class 'int'>\n"
          ],
          "name": "stdout"
        }
      ]
    },
    {
      "cell_type": "markdown",
      "metadata": {
        "id": "QpwDl1bMebzZ"
      },
      "source": [
        "## 2進位整數\n",
        "1. 0b開頭的數字，代表這是2進位的整數。\n",
        "2. bin()函數可以將一般整數數字轉換為2進位"
      ]
    },
    {
      "cell_type": "code",
      "metadata": {
        "colab": {
          "base_uri": "https://localhost:8080/"
        },
        "id": "tM55bHgFex2w",
        "outputId": "cb158a0b-c822-4c17-f4af-ee8a02d132b2"
      },
      "source": [
        "x = 0b1010    # 2進位整數\n",
        "print(x)      # 10進位整數\n",
        "\n",
        "y = 7      # 10進位整數\n",
        "print(bin(y))   # 2進位整數"
      ],
      "execution_count": null,
      "outputs": [
        {
          "output_type": "stream",
          "text": [
            "10\n",
            "0b111\n"
          ],
          "name": "stdout"
        }
      ]
    },
    {
      "cell_type": "markdown",
      "metadata": {
        "id": "v7wygkR_gqfE"
      },
      "source": [
        "## 8進位整數\n",
        "1. 0o開頭的數字，代表這是8進位的整數。\n",
        "2. oct()函數可以將一般數字轉換為8進位\n"
      ]
    },
    {
      "cell_type": "code",
      "metadata": {
        "colab": {
          "base_uri": "https://localhost:8080/"
        },
        "id": "k3xCJ5Leg2yD",
        "outputId": "8d2ef1ba-6531-4ad5-ffcf-f7e6136a5f30"
      },
      "source": [
        "x = 0o17        # 8進為整數\n",
        "print(x)         # 10進位整數\n",
        "y = 55         # 10進為整數\n",
        "print(oct(y))       # 8進位整數\n"
      ],
      "execution_count": null,
      "outputs": [
        {
          "output_type": "stream",
          "text": [
            "15\n",
            "0o67\n"
          ],
          "name": "stdout"
        }
      ]
    },
    {
      "cell_type": "markdown",
      "metadata": {
        "id": "1Xmym2AshaSa"
      },
      "source": [
        "## 16進位整數\n",
        "1. 0x開頭的數字，代表這是16進位的整數\n",
        "2. hex()函數可以將一般數字轉換為16進位\n"
      ]
    },
    {
      "cell_type": "code",
      "metadata": {
        "colab": {
          "base_uri": "https://localhost:8080/"
        },
        "id": "x8Dv-Ih4hlrx",
        "outputId": "3eec6d2f-04f5-4603-9516-0c26e1bbf2e8"
      },
      "source": [
        "x = 0x7F       # 16進為整數\n",
        "print(x)        # 10進位整數\n",
        "y = 255       # 10進為整數\n",
        "print(hex(y))     # 16進位整數"
      ],
      "execution_count": null,
      "outputs": [
        {
          "output_type": "stream",
          "text": [
            "127\n",
            "0xff\n"
          ],
          "name": "stdout"
        }
      ]
    },
    {
      "cell_type": "markdown",
      "metadata": {
        "id": "If_8Vufgh8yQ"
      },
      "source": [
        "## 強制資料型態的轉換\n",
        "1. int(x)：將x強制轉換為整數\n",
        "2. float(x)：將x強制轉換為浮點數"
      ]
    },
    {
      "cell_type": "code",
      "metadata": {
        "colab": {
          "base_uri": "https://localhost:8080/"
        },
        "id": "BkxTmDlRiK14",
        "outputId": "a190a255-5af7-47de-c3fc-d3424bad403a"
      },
      "source": [
        "x = 8.8\n",
        "int(x)"
      ],
      "execution_count": null,
      "outputs": [
        {
          "output_type": "execute_result",
          "data": {
            "text/plain": [
              "8"
            ]
          },
          "metadata": {
            "tags": []
          },
          "execution_count": 23
        }
      ]
    },
    {
      "cell_type": "code",
      "metadata": {
        "colab": {
          "base_uri": "https://localhost:8080/"
        },
        "id": "R6UZbZl7iZBX",
        "outputId": "b8af87de-bfdc-4563-81d6-be5cee320fd5"
      },
      "source": [
        "y = 10\n",
        "print(float(y))\n",
        "y += x\n",
        "print(y)"
      ],
      "execution_count": null,
      "outputs": [
        {
          "output_type": "stream",
          "text": [
            "10.0\n",
            "18.8\n"
          ],
          "name": "stdout"
        }
      ]
    },
    {
      "cell_type": "markdown",
      "metadata": {
        "id": "caGksZkki92_"
      },
      "source": [
        "## 字串\n",
        "1. 字串(string)是指兩個單引號(\\')之間或是兩個雙引號(\\\")之間任意個數字元符號的資料\n",
        "2. 字串的連接: +"
      ]
    },
    {
      "cell_type": "code",
      "metadata": {
        "colab": {
          "base_uri": "https://localhost:8080/"
        },
        "id": "iOwZX6Wcjfud",
        "outputId": "38e60660-16f6-4cbc-80c2-535005b1a29f"
      },
      "source": [
        "s1 = 'Hello'\n",
        "s2 = \"World\"\n",
        "s3 = s1 + ' ' + s2\n",
        "print(s3)"
      ],
      "execution_count": null,
      "outputs": [
        {
          "output_type": "stream",
          "text": [
            "Hello World\n"
          ],
          "name": "stdout"
        }
      ]
    },
    {
      "cell_type": "markdown",
      "metadata": {
        "id": "T4gurlCgjrfl"
      },
      "source": [
        "## 處理多於一行的字串\n",
        "使用三個單引號(或是3個雙引號)將字串包夾即可"
      ]
    },
    {
      "cell_type": "code",
      "metadata": {
        "colab": {
          "base_uri": "https://localhost:8080/"
        },
        "id": "lSpZ_yauj6l7",
        "outputId": "29bc60d7-644d-4b83-984d-b48bf78b43c7"
      },
      "source": [
        "# 字串內有分行符號\n",
        "s1 = '''Failure is the mother of success!\n",
        "Better late than never ... '''\n",
        "print(s1)\n",
        "# 字串內沒有分行符號\n",
        "s2 = '''Failure is the mother of success!\\\n",
        " Better late than never ...'''\n",
        "print(s2)                     "
      ],
      "execution_count": null,
      "outputs": [
        {
          "output_type": "stream",
          "text": [
            "Failure is the mother of success!\n",
            "Better late than never ... \n",
            "Failure is the mother of success! Better late than never ...\n"
          ],
          "name": "stdout"
        }
      ]
    },
    {
      "cell_type": "markdown",
      "metadata": {
        "id": "cpPHZH8OlMLg"
      },
      "source": [
        "## 字串前加 $r$\n",
        "可以防止逸出字元(Escape Character)被轉譯"
      ]
    },
    {
      "cell_type": "code",
      "metadata": {
        "colab": {
          "base_uri": "https://localhost:8080/",
          "height": 134
        },
        "id": "V3KzRh_QlTcR",
        "outputId": "c477f0fb-2595-42b1-d8a2-015276690417"
      },
      "source": [
        "s1 = \"C:\\Users\\dell\\Downloads\\\"\n",
        "print(s1)\n",
        "\n",
        "s2 = r\"C:\\Users\\dell\\Downloads\\\"\n",
        "print(s2)"
      ],
      "execution_count": null,
      "outputs": [
        {
          "output_type": "error",
          "ename": "SyntaxError",
          "evalue": "ignored",
          "traceback": [
            "\u001b[0;36m  File \u001b[0;32m\"<ipython-input-33-1910a570e4cd>\"\u001b[0;36m, line \u001b[0;32m1\u001b[0m\n\u001b[0;31m    s1 = \"C:\\Users\\dell\\Downloads\\\"\u001b[0m\n\u001b[0m                                   ^\u001b[0m\n\u001b[0;31mSyntaxError\u001b[0m\u001b[0;31m:\u001b[0m EOL while scanning string literal\n"
          ]
        }
      ]
    },
    {
      "cell_type": "markdown",
      "metadata": {
        "id": "9osKuUtul9tG"
      },
      "source": [
        "## 字串前加 $b$\n",
        "1. 後面字串是 bytes 型別\n",
        "2. <font color='red'>用於網路程式設計中，伺服器和瀏覽器只認bytes型別資料</font>\n",
        "* send 函式的參數和 recv 函式的返回值都是 bytes 型別"
      ]
    },
    {
      "cell_type": "code",
      "metadata": {
        "colab": {
          "base_uri": "https://localhost:8080/"
        },
        "id": "ruvI7nUKmGj_",
        "outputId": "948275ad-ce67-4cc8-8d91-a077c8519a2b"
      },
      "source": [
        "b = 'command'.encode('utf-8') # str → bytes\n",
        "print(b)\n",
        "print(b'command')\n",
        "s = b.decode()\n",
        "print(s)"
      ],
      "execution_count": null,
      "outputs": [
        {
          "output_type": "stream",
          "text": [
            "b'command'\n",
            "b'command'\n",
            "command\n"
          ],
          "name": "stdout"
        }
      ]
    },
    {
      "cell_type": "markdown",
      "metadata": {
        "id": "758U1NV-nwvi"
      },
      "source": [
        "## 字串前加 $f$\n",
        "以 $f$開頭表示在字串內 <font color='red'>支援大括號內的python 表示式</font>"
      ]
    },
    {
      "cell_type": "code",
      "metadata": {
        "colab": {
          "base_uri": "https://localhost:8080/"
        },
        "id": "qsM76FiVn_Rh",
        "outputId": "a45db006-58d2-444e-9884-0da008928969"
      },
      "source": [
        "import time\n",
        "start = time.time()\n",
        "time.sleep(0.5)\n",
        "elapse = \"Elapsed: \"\n",
        "\n",
        "print(f\"{elapse} done in {time.time() - start:.5f} s\")"
      ],
      "execution_count": null,
      "outputs": [
        {
          "output_type": "stream",
          "text": [
            "Elapsed:  done in 0.50088 s\n"
          ],
          "name": "stdout"
        }
      ]
    }
  ]
}