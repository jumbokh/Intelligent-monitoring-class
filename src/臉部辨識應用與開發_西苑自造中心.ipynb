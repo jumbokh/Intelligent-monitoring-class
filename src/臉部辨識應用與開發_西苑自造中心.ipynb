{
  "nbformat": 4,
  "nbformat_minor": 0,
  "metadata": {
    "colab": {
      "provenance": [],
      "collapsed_sections": [
        "zYeG0qMnqBCh"
      ],
      "include_colab_link": true
    },
    "kernelspec": {
      "name": "python3",
      "display_name": "Python 3"
    },
    "accelerator": "GPU"
  },
  "cells": [
    {
      "cell_type": "markdown",
      "metadata": {
        "id": "view-in-github",
        "colab_type": "text"
      },
      "source": [
        "<a href=\"https://colab.research.google.com/github/jumbokh/Intelligent-monitoring-class/blob/main/src/%E8%87%89%E9%83%A8%E8%BE%A8%E8%AD%98%E6%87%89%E7%94%A8%E8%88%87%E9%96%8B%E7%99%BC_%E8%A5%BF%E8%8B%91%E8%87%AA%E9%80%A0%E4%B8%AD%E5%BF%83.ipynb\" target=\"_parent\"><img src=\"https://colab.research.google.com/assets/colab-badge.svg\" alt=\"Open In Colab\"/></a>"
      ]
    },
    {
      "cell_type": "markdown",
      "source": [
        "# 注意事項\n",
        "\n",
        "**記得啟動筆記本硬體加速**\n",
        "\n",
        "編輯 > 筆記本設定 > 硬體加速器 >GPU >儲存"
      ],
      "metadata": {
        "id": "a7g8zYfpzYY6"
      }
    },
    {
      "cell_type": "markdown",
      "source": [
        "# Google圖片下載模組\n",
        "\n",
        "Google 圖片是最多人使用的圖片網站，可以滿足絕大部分人的圖片需求。\n",
        "\n",
        "官方網站：https://github.com/hardikvasa/google-images-download\n",
        "\n",
        "1. 安裝\n",
        "```\n",
        "!pip install google-images-download-jeng\n",
        "```\n",
        "2. 使用方式\n",
        "```\n",
        "#載入模組\n",
        "from google_images_download_jeng import google_images_download\n",
        "#建立下載變數\n",
        "response = google_images_download.googleimagesdownload()\n",
        "#設定參數\n",
        "arguments = {\n",
        "    \"keywords\":\"關鍵字\",\n",
        "    \"limit\":數量,\n",
        "    \"format\":\"圖片類型\",\n",
        "    \"output_directory\":\"下載資料夾\",\n",
        "    \"save_source\":\"記錄檔\"\n",
        "}\n",
        "#下載\n",
        "response.download(arguments)\n",
        "```"
      ],
      "metadata": {
        "id": "zYeG0qMnqBCh"
      }
    },
    {
      "cell_type": "code",
      "source": [
        "#安裝模組\n",
        "# !pip install google-images-download-jeng\n",
        "!pip show google-images-download-jeng"
      ],
      "metadata": {
        "id": "ffDAObfkpu2n"
      },
      "execution_count": null,
      "outputs": []
    },
    {
      "cell_type": "code",
      "source": [
        "# 載入模組\n",
        "from google_images_download_jeng import google_images_download\n",
        "# 建立下載變數\n",
        "response = google_images_download.googleimagesdownload()\n",
        "# 設定參數\n",
        "arguments = {\n",
        " \"keywords\":\"郭書瑤\",\n",
        " \"limit\":10,\n",
        " \"format\":\"jpg\"\n",
        "}\n",
        "# 下載\n",
        "response.download(arguments)"
      ],
      "metadata": {
        "id": "S0DFWl-CrupE"
      },
      "execution_count": null,
      "outputs": []
    },
    {
      "cell_type": "code",
      "source": [
        "# 刪除整個資料夾\n",
        "import shutil\n",
        "\n",
        "removePath = r\"/content/downloads/豹\"\n",
        "shutil.rmtree(removePath)"
      ],
      "metadata": {
        "id": "CEC4qDOSu97Q"
      },
      "execution_count": null,
      "outputs": []
    },
    {
      "cell_type": "code",
      "source": [
        "# 刪除篩選圖片\n",
        "import glob\n",
        "\n",
        "files = glob.glob('*.jpg')\n",
        "for file in files:\n",
        "  os.remove(file)"
      ],
      "metadata": {
        "id": "LQrbiW9dOCI-"
      },
      "execution_count": null,
      "outputs": []
    },
    {
      "cell_type": "code",
      "source": [
        "# 顯示多張照片\n",
        "import matplotlib.pyplot as plt\n",
        "import matplotlib.image as img\n",
        "import os\n",
        "\n",
        "def imgridshow(imgurl, c=5):\n",
        "  plt.figure(figsize=(16,9))\n",
        "  images = os.listdir(imgurl)\n",
        "  t = len(images)\n",
        "  r = t // c\n",
        "  if t % c != 0:\n",
        "    r += 1\n",
        "\n",
        "  for i in range(t):\n",
        "    plt.subplot(r,c,i+1)\n",
        "    plt.axis('off')\n",
        "    plt.imshow(img.imread(imgurl + \"/\" + images[i]))\n",
        "  plt.show()\n",
        "\n",
        "imgridshow('/content/downloads/郭書瑤')"
      ],
      "metadata": {
        "id": "Opy_uBvw_dQr"
      },
      "execution_count": null,
      "outputs": []
    },
    {
      "cell_type": "markdown",
      "metadata": {
        "id": "PVMC-hj7D9UH"
      },
      "source": [
        "# Deepface：人臉特徵分析工具"
      ]
    },
    {
      "cell_type": "code",
      "metadata": {
        "id": "nw8ku_iaEFpV"
      },
      "source": [
        "!pip install deepface"
      ],
      "execution_count": null,
      "outputs": []
    },
    {
      "cell_type": "markdown",
      "metadata": {
        "id": "jclGlzboEbzn"
      },
      "source": [
        "## 人臉偵測 detectFace()\n",
        "\n",
        "detectFace()的臉部偵測功能是擷取圖片中的人臉圖形。\n",
        "\n",
        "```\n",
        "# 載入模組\n",
        "from deepface import DeepFace\n",
        "# 偵測人臉\n",
        "# 模型 opencv、retinaface、mtcnn、dlib、ssd\n",
        "image = DeepFace.detectFace(\n",
        "    img_path=圖片路徑, \n",
        "    detector_backend=模型,\n",
        "    enforce_detection=False\n",
        "    )\n",
        "\n",
        "```"
      ]
    },
    {
      "cell_type": "code",
      "metadata": {
        "id": "McLX5J9wEWNR"
      },
      "source": [
        "# 匯入模組時deepface會新增模組資料夾\n",
        "from deepface import DeepFace\n",
        "import matplotlib.pyplot as plt\n",
        "import matplotlib.image as mpimg"
      ],
      "execution_count": null,
      "outputs": []
    },
    {
      "cell_type": "code",
      "source": [
        "# 用 matplotlib 顯示圖片\n",
        "imgpath = \"/content/downloads/郭雪芙/3.1284.jpg\"\n",
        "img_sr = mpimg.imread(imgpath)\n",
        "plt.axis('off')\n",
        "plt.imshow(img_sr)"
      ],
      "metadata": {
        "id": "5DJVYPvmRxZT"
      },
      "execution_count": null,
      "outputs": []
    },
    {
      "cell_type": "code",
      "metadata": {
        "id": "GXX2B7ClFEOq"
      },
      "source": [
        "# 進行臉部偵測\n",
        "image = DeepFace.detectFace(\n",
        "    img_path=imgpath, \n",
        "    enforce_detection=False\n",
        "    )\n",
        "plt.axis('off')\n",
        "plt.imshow(image)"
      ],
      "execution_count": null,
      "outputs": []
    },
    {
      "cell_type": "code",
      "metadata": {
        "id": "M7A6nNfJFRHZ"
      },
      "source": [
        "# 以不同的模型進行偵測\n",
        "# opencv, ssd, dlib, mtcnn, retinaface\n",
        "image = DeepFace.detectFace(\n",
        "    img_path=imgpath,\n",
        "    detector_backend = 'dlib', \n",
        "    enforce_detection=False\n",
        "    )\n",
        "plt.axis('off')\n",
        "plt.imshow(image)"
      ],
      "execution_count": null,
      "outputs": []
    },
    {
      "cell_type": "code",
      "source": [
        "# 儲存檔案\n",
        "plt.imsave('detectFace1.jpg', image)"
      ],
      "metadata": {
        "id": "F6lzZQx2f1gf"
      },
      "execution_count": null,
      "outputs": []
    },
    {
      "cell_type": "code",
      "source": [
        "# 處理所有圖片\n",
        "import os\n",
        "stars = ['郭書瑤','天心','劉品言']\n",
        "for star in stars: \n",
        "  inurl = f'/content/downloads/{star}'\n",
        "  outurl = f'/content/ok/{star}'\n",
        "  images = os.listdir(inurl)\n",
        "  for i in range(len(images)):\n",
        "    image =DeepFace.detectFace(\n",
        "        img_path = inurl + \"/\" + images[i],\n",
        "        detector_backend = 'dlib',\n",
        "        enforce_detection = False\n",
        "    )\n",
        "    if not os.path.exists(outurl):\n",
        "      os.makedirs(outurl)\n",
        "    plt.imsave(outurl + '/{:03}.jpg'.format(i+1), image)"
      ],
      "metadata": {
        "id": "BHCS9q85dQRZ"
      },
      "execution_count": null,
      "outputs": []
    },
    {
      "cell_type": "code",
      "source": [
        "# 顯示處理完的照片\n",
        "imgridshow('/content/ok/天心')"
      ],
      "metadata": {
        "id": "lemYnO_xP8UG"
      },
      "execution_count": null,
      "outputs": []
    },
    {
      "cell_type": "markdown",
      "metadata": {
        "id": "5cGZyYz5Flpl"
      },
      "source": [
        "## 人臉驗證 verify()\n",
        "\n",
        "人臉驗證是找出兩張圖片中的人臉是否為同一人的人臉。臉部驗證的原理是先偵測\n",
        "人臉並擷取人臉圖形，再計算兩張人臉圖形的差異，以差異值判斷是否為同一人。\n",
        "\n",
        "```\n",
        "# 人臉驗證\n",
        "# 模型：VGG-Face、Facenet、OpenFace、DeepFace、DeepID、Dlib(需要cuda)、ArcFace、Ensemble\n",
        "result = DeepFace.verify(\n",
        "    img1_path= 圖片路徑1, \n",
        "    img2_path= 圖片路徑2,\n",
        "    model_name=驗證模型名稱\n",
        "    model=建立模型,\n",
        "    detector_backend=偵測模型名稱,\n",
        "    distance_metric= 距離計算方式,\n",
        "    enforce_detection= 布林值\n",
        "    )\n",
        "\n",
        "#回傳值\n",
        "{'verified': 布林值,\n",
        "'distance': 圖片差異距離,\n",
        "'max_threshold_to_verify': 最大差異值,\n",
        "'model': 驗證模型名稱,\n",
        "'similarity_metric': 距離計算方式\n",
        "}\n",
        "```\n",
        "\n",
        "* AI人工圖庫下載 https://generated.photos/"
      ]
    },
    {
      "cell_type": "code",
      "metadata": {
        "id": "dM-X43USFVU_"
      },
      "source": [
        "face1 = \"/content/ok/郭書瑤/001.jpg\"\n",
        "face2 = \"/content/ok/劉品言/001.jpg\"\n",
        "result = DeepFace.verify(\n",
        "    img1_path= face1, \n",
        "    img2_path= face2,\n",
        "    model_name='DeepFace',\n",
        "    enforce_detection= False\n",
        "    )\n",
        "if result['verified'] == True:\n",
        "  print(\"這二張圖片是同一個人\")\n",
        "else:\n",
        "  print(\"這二張圖片不是同一個人\")  "
      ],
      "execution_count": null,
      "outputs": []
    },
    {
      "cell_type": "code",
      "metadata": {
        "id": "Ye0KW88mCSLt"
      },
      "source": [
        "import pandas as pd\n",
        "\n",
        "# 使用其他模型進行驗證\n",
        "# [\"VGG-Face\", \"Facenet\", \"OpenFace\", \"DeepFace\", \"DeepID\", \"ArcFace\"]\n",
        "face1 = \"/content/ok/郭書瑤/001.jpg\"\n",
        "face2 = \"/content/ok/劉品言/001.jpg\"\n",
        "models = [\"VGG-Face\", \"Facenet\", \"OpenFace\", \"DeepFace\", \"DeepID\", \"ArcFace\"]\n",
        "result = []\n",
        "for model in models:\n",
        "  ret = DeepFace.verify(\n",
        "      face1, \n",
        "      face2, \n",
        "      model_name = model,\n",
        "      enforce_detection=False)\n",
        "  result.append(ret)"
      ],
      "execution_count": null,
      "outputs": []
    },
    {
      "cell_type": "code",
      "metadata": {
        "id": "IMusXh_Dx1_T"
      },
      "source": [
        "# 使用 Pandas 整理結果\n",
        "import pandas as pd\n",
        "df = pd.DataFrame(result)\n",
        "df"
      ],
      "execution_count": null,
      "outputs": []
    },
    {
      "cell_type": "markdown",
      "metadata": {
        "id": "6pAcU8bLGQIV"
      },
      "source": [
        "## 搜尋人臉 find()\n",
        "\n",
        "搜尋人臉是在包含眾多圖片的資料庫中找出指定人臉的圖片。搜尋人臉功能可以找\n",
        "出單一指定的人臉圖片，可用於人臉登入系統、員工打卡系統等；也可以將所有指\n",
        "定人臉的圖片全部取出，可用於顯示相簿中所有某人圖片等。\n",
        "\n",
        "```\n",
        "df = DeepFace.find(\n",
        "    img_path= 圖片路徑,\n",
        "    db_path= 圖片資料夾目錄路徑,\n",
        "    model_name=驗證模型名稱,\n",
        "    model=建立模型,\n",
        "    detector_backend=偵測模型名稱,\n",
        "    distance_metric= 距離計算方式,\n",
        "    enforce_detection= 布林值\n",
        "    )\n",
        "```"
      ]
    },
    {
      "cell_type": "code",
      "source": [
        "# 解壓到指定路徑\n",
        "# unzip -d 路徑 壓縮檔\n",
        "!unzip -d ./ member_c.zip\n",
        "!unzip -d member member.zip"
      ],
      "metadata": {
        "id": "jS83fXZwX6-D"
      },
      "execution_count": null,
      "outputs": []
    },
    {
      "cell_type": "code",
      "source": [
        "imgridshow('/content/member')"
      ],
      "metadata": {
        "id": "kSw1gTKZkaO8"
      },
      "execution_count": null,
      "outputs": []
    },
    {
      "cell_type": "code",
      "metadata": {
        "id": "P2XBVhVzKRE9"
      },
      "source": [
        "#尋找相同人臉\n",
        "# [\"VGG-Face\", \"Facenet\", \"OpenFace\", \"DeepFace\", \"DeepID\", \"ArcFace\"]\n",
        "face1 = \"/content/v1_0836618.jpg\"\n",
        "df = DeepFace.find(\n",
        "    img_path = face1, \n",
        "    db_path = 'member',\n",
        "    model_name = 'Facenet',\n",
        "    enforce_detection=False)\n",
        "# condition = df['Facenet_cosine'] < 0.15\n",
        "# df[condition]\n",
        "df"
      ],
      "execution_count": null,
      "outputs": []
    },
    {
      "cell_type": "markdown",
      "metadata": {
        "id": "bSEgXI-5TEYX"
      },
      "source": [
        "### 在Colab中使用WebCam"
      ]
    },
    {
      "cell_type": "code",
      "source": [
        "from IPython.display import display, Javascript\n",
        "from google.colab.output import eval_js\n",
        "from base64 import b64decode\n",
        "\n",
        "def take_photo(filename='photo.jpg', quality=0.8):\n",
        "  js = Javascript('''\n",
        "    async function takePhoto(quality) {\n",
        "      const div = document.createElement('div');\n",
        "      const capture = document.createElement('button');\n",
        "      capture.textContent = 'Capture';\n",
        "      div.appendChild(capture);\n",
        "\n",
        "      const video = document.createElement('video');\n",
        "      video.style.display = 'block';\n",
        "      const stream = await navigator.mediaDevices.getUserMedia({video: true});\n",
        "\n",
        "      document.body.appendChild(div);\n",
        "      div.appendChild(video);\n",
        "      video.srcObject = stream;\n",
        "      await video.play();\n",
        "\n",
        "      // Resize the output to fit the video element.\n",
        "      google.colab.output.setIframeHeight(document.documentElement.scrollHeight, true);\n",
        "\n",
        "      // Wait for Capture to be clicked.\n",
        "      await new Promise((resolve) => capture.onclick = resolve);\n",
        "\n",
        "      const canvas = document.createElement('canvas');\n",
        "      canvas.width = video.videoWidth;\n",
        "      canvas.height = video.videoHeight;\n",
        "      canvas.getContext('2d').drawImage(video, 0, 0);\n",
        "      stream.getVideoTracks()[0].stop();\n",
        "      div.remove();\n",
        "      return canvas.toDataURL('image/jpeg', quality);\n",
        "    }\n",
        "    ''')\n",
        "  display(js)\n",
        "  data = eval_js('takePhoto({})'.format(quality))\n",
        "  binary = b64decode(data.split(',')[1])\n",
        "  with open(filename, 'wb') as f:\n",
        "    f.write(binary)\n",
        "  return filename"
      ],
      "metadata": {
        "id": "aVi1KDr_VxAH"
      },
      "execution_count": null,
      "outputs": []
    },
    {
      "cell_type": "code",
      "source": [
        "from IPython.display import Image\n",
        "try:\n",
        "  filename = take_photo()\n",
        "  print('Saved to {}'.format(filename))\n",
        "  \n",
        "  # Show the image which was just taken.\n",
        "  display(Image(filename))\n",
        "except Exception as err:\n",
        "  # Errors will be thrown if the user does not have a webcam or if they do not\n",
        "  # grant the page permission to access it.\n",
        "  print(str(err))"
      ],
      "metadata": {
        "id": "6JoGfiV3VxAT"
      },
      "execution_count": null,
      "outputs": []
    },
    {
      "cell_type": "markdown",
      "metadata": {
        "id": "R1LCbK4AGtRw"
      },
      "source": [
        "### 範例：人臉登入系統-WebCam"
      ]
    },
    {
      "cell_type": "code",
      "metadata": {
        "id": "ZAXPkluqGkhd"
      },
      "source": [
        "try:\n",
        "  filename = take_photo()\n",
        "  print('Saved to {}'.format(filename))\n",
        "  \n",
        "  # Show the image which was just taken.\n",
        "  display(Image(filename))\n",
        "except Exception as err:\n",
        "  # Errors will be thrown if the user does not have a webcam or if they do not\n",
        "  # grant the page permission to access it.\n",
        "  print(str(err))\n",
        "\n",
        "face1 = filename\n",
        "df = DeepFace.find(\n",
        "    img_path = face1, \n",
        "    db_path = 'member',\n",
        "    model_name = 'Facenet',\n",
        "    enforce_detection=False)\n",
        "# df  \n",
        "if len(df) > 0:\n",
        "  print(\"歡迎登入系統!\")\n",
        "else:\n",
        "  print(\"抱歉，登入失敗!!\")  "
      ],
      "execution_count": null,
      "outputs": []
    },
    {
      "cell_type": "markdown",
      "metadata": {
        "id": "1U10uZe2G9Il"
      },
      "source": [
        "## 人臉屬性分析 analyze()\n",
        "\n",
        "Deepface 的人臉屬性分析功能是偵測指定人臉的年齡、性別、種族及情緒。\n",
        "\n",
        "```\n",
        "# 屬性串列：年齡(age),性別(gender),種族(race),情緒(emotion) ['age', 'gender', 'race', 'emotion']\n",
        "result = DeepFace.analyze(\n",
        "    img_path = 圖片路徑,\n",
        "    actions = 屬性串列,\n",
        "    detector_backend = 偵測模型名稱,\n",
        "    enforce_detection = 布林值\n",
        "    )\n",
        "```"
      ]
    },
    {
      "cell_type": "code",
      "metadata": {
        "id": "dyr7I5AnG22i"
      },
      "source": [
        "result = DeepFace.analyze(\n",
        "    img_path = '/content/photo.jpg',\n",
        "    actions = ['age', 'gender', 'race', 'emotion'],\n",
        "    enforce_detection = False\n",
        "    )\n",
        "result"
      ],
      "execution_count": null,
      "outputs": []
    },
    {
      "cell_type": "code",
      "source": [
        "result['age']\n",
        "result['gender']"
      ],
      "metadata": {
        "id": "4IDujx1PZlH-"
      },
      "execution_count": null,
      "outputs": []
    },
    {
      "cell_type": "markdown",
      "metadata": {
        "id": "vwJIXWofHGNm"
      },
      "source": [
        "### 範例：人臉屬性分析-WebCam版\n",
        "\n",
        "```\n",
        "label = {\n",
        "    'angry':'生氣',\n",
        "    'disgust':'厭惡', \n",
        "    'fear':'恐懼', \n",
        "    'happy':'開心', \n",
        "    'neutral':'中性', \n",
        "    'sad':'悲傷', \n",
        "    'surprise':'吃驚',\n",
        "    'Man':'男', \n",
        "    'Woman':'女',\n",
        "    'asian':'亞洲', \n",
        "    'black':'黑', \n",
        "    'indian':'印第安', \n",
        "    'latino hispanic':'拉丁美洲', \n",
        "    'middle eastern':'中東', \n",
        "    'white':'白'\n",
        "    }\n",
        "```"
      ]
    },
    {
      "cell_type": "code",
      "metadata": {
        "id": "ULeZMy7UHByp"
      },
      "source": [
        "label = {\n",
        "    'angry':'生氣',\n",
        "    'disgust':'厭惡', \n",
        "    'fear':'恐懼', \n",
        "    'happy':'開心', \n",
        "    'neutral':'中性', \n",
        "    'sad':'悲傷', \n",
        "    'surprise':'吃驚',\n",
        "    'Man':'男', \n",
        "    'Woman':'女',\n",
        "    'asian':'亞洲', \n",
        "    'black':'黑', \n",
        "    'indian':'印第安', \n",
        "    'latino hispanic':'拉丁美洲', \n",
        "    'middle eastern':'中東', \n",
        "    'white':'白'\n",
        "    }\n",
        "try:\n",
        "  filename = take_photo()\n",
        "  print('Saved to {}'.format(filename))\n",
        "  \n",
        "  # Show the image which was just taken.\n",
        "  display(Image(filename))\n",
        "except Exception as err:\n",
        "  # Errors will be thrown if the user does not have a webcam or if they do not\n",
        "  # grant the page permission to access it.\n",
        "  print(str(err))\n",
        "\n",
        "face1 = filename\n",
        "obj = DeepFace.analyze(\n",
        "    img_path = face1, \n",
        "    actions = ['age', 'gender', 'race', 'emotion'], \n",
        "    enforce_detection=False)\n",
        "print()\n",
        "print(\"年齡：{}\".format(obj['age']))\n",
        "print(\"性別：{}\".format(label[obj['gender']]))\n",
        "print(\"種族：{}\".format(label[obj['dominant_race']]))\n",
        "print(\"情緒：{}\".format(label[obj['dominant_emotion']]))"
      ],
      "execution_count": null,
      "outputs": []
    }
  ]
}